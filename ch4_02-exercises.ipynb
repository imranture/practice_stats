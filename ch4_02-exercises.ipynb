{
 "cells": [
  {
   "cell_type": "markdown",
   "metadata": {},
   "source": [
    "# Chapter 4 - Binomial & Poisson Distributions: Practice Exercises\n",
    "---"
   ]
  },
  {
   "cell_type": "markdown",
   "metadata": {},
   "source": [
    "**Exercise 1:** Suppose in a school it is found that 35% of adults do not work at all while on summer vacation. In a random sample of 10 adults, let $X$ represent the number who do not work during summer vacation.\n",
    "\n",
    "**Hint:** For part C and D, you may use `comb` function from [`scipy.special`](https://docs.scipy.org/doc/scipy/reference/generated/scipy.special.comb.html#scipy.special.comb) to compute **\"n choose k\"**.\n",
    "\n",
    "A) For this experiment, define the event that represents a \"success\".\n",
    "\n",
    "B) What is the value of $p$ for this binomial experiment. \n",
    "\n",
    "C) Find $P(X = 3)$. \n",
    "\n",
    "D) Find the probability that 2 or fewer of the 10 adults do not work during summer vacation."
   ]
  },
  {
   "cell_type": "markdown",
   "metadata": {},
   "source": [
    "---\n",
    "**Exercise 2:** Data collected in United States suggests that 69.7% of 18-20 year olds consumed alcoholic beverages in any given year. Let $X$ represent the number of 18-20 year olds who have consumed alcohol beverages.\n",
    "\n",
    "A) Suppose a random sample of ten 18-20 year olds is taken. Is the use of the binomial distribution appropriate for calculating the probability that exactly six consumed alcoholic beverages? Explain.\n",
    "\n",
    "B) Calculate the probability that exactly 6 out of 10 randomly sampled 18-20 year olds consumed an alcoholic beverage.\n",
    "\n",
    "C) What is the probability that exactly four out of ten 18-20 year olds have *not* consumed an alcoholic beverage?\n",
    "\n",
    "D) What is the probability that at most 2 out of 5 randomly sampled 18-20 year olds have consumed alcoholic beverages?\n",
    "\n",
    "E) What is the probability that at least 1 out of 5 randomly sampled 18-20 year olds have consumed alcoholic beverages?"
   ]
  },
  {
   "cell_type": "markdown",
   "metadata": {},
   "source": [
    "---\n",
    "**Exercise 3:** A grocery store serves an average of 85 customers per hour during the\n",
    "evening.\n",
    "\n",
    "**Hint:** For part D, you may use `poisson.pmf` function from [`scipy.stats`](https://docs.scipy.org/doc/scipy/reference/generated/scipy.stats.poisson.html).\n",
    "\n",
    "A) Which distribution have we studied that is most appropriate for calculating the probability of a given\n",
    "number of customers arriving within one hour during this time of day?\n",
    "\n",
    "B) What are the mean and the standard deviation of the number of customers this grocery store serves in\n",
    "one hour during this time of day?\n",
    "\n",
    "C) Would it be considered unusually low if only 68 customers showed up to this grocery store in one hour\n",
    "during this time of day?\n",
    "\n",
    "D) Calculate the probability that this grocery store serves 80 customers in one hour during this time of day."
   ]
  },
  {
   "cell_type": "markdown",
   "metadata": {},
   "source": [
    "---\n",
    "**Exercise 4:** For Monday through Thursday when there isn't a holiday, the average number of vehicles that visit a particular retailer between 2pm and 3pm each afternoon is 6.5, and the number of cars that show up on any given day follows a Poisson distribution.\n",
    "\n",
    "A) What is the probability that exactly 5 cars will show up next Monday?\n",
    "\n",
    "B) What is the probability that 0, 1, or 2 cars will show up next Monday between 2pm and 3pm?"
   ]
  },
  {
   "cell_type": "markdown",
   "metadata": {},
   "source": [
    "---\n",
    "*Solutions available [here](https://nbviewer.org/github/imranture/practice_stats/blob/main/ch4_02-exercises_with_solutions.ipynb).*"
   ]
  }
 ],
 "metadata": {
  "hide_input": false,
  "kernelspec": {
   "display_name": "Python 3 (ipykernel)",
   "language": "python",
   "name": "python3"
  },
  "language_info": {
   "codemirror_mode": {
    "name": "ipython",
    "version": 3
   },
   "file_extension": ".py",
   "mimetype": "text/x-python",
   "name": "python",
   "nbconvert_exporter": "python",
   "pygments_lexer": "ipython3",
   "version": "3.10.0"
  }
 },
 "nbformat": 4,
 "nbformat_minor": 4
}
