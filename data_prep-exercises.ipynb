{
 "cells": [
  {
   "cell_type": "markdown",
   "metadata": {},
   "source": [
    "# Data Preparation with Python: Practice Exercises\n",
    "\n",
    "The objective of this practice session is to help you learn applying commonly used data preparation steps on the raw dataset in Python.\n",
    "\n",
    "Suppose it is November 2009 and you wish to sell your copy of MarioKart for the Nintendo Wii on eBay. You are curious how much people is willing to pay for this particular game and therefore you scrape all the eBay auctions from the previous month.\n",
    "\n",
    "### Data Overview - Mario Kart auctions from eBay\n",
    "\n",
    "The data, collected in October 2009, has the following variables:\n",
    "\n",
    "- **`id`**: Numeric, Auction ID assigned by eBay.\n",
    "\n",
    "- **`duration`**: Numeric, Auction length, in days.\n",
    "\n",
    "- **`n_bids`**: Numeric, Number of bids.\n",
    "\n",
    "- **`cond`**: Binary, Game condition, either new or used.\n",
    "\n",
    "- **`start_pr`**: Numeric, Start price of the auction.\n",
    "\n",
    "- **`ship_pr`**: Numeric, Shipping price.\n",
    "\n",
    "- **`total_pr`**: Numeric, Total price, which equals the auction price plus the shipping price.\n",
    "\n",
    "- **`ship_sp`**: Categorical, Shipping speed or method.\n",
    "\n",
    "- **`seller_rate`**: Numeric, The seller's rating on eBay. This is the number of positive ratings minus the number of negative ratings for the seller.\n",
    "\n",
    "- **`stock_photo`**: Binary, Whether the auction feature photo was a stock photo or not. If the picture was used in many auctions, then it was called a stock photo.\n",
    "\n",
    "- **`wheels`**: Numeric, Number of Wii wheels included in the auction. These are steering wheel attachments to make it seem as though you are actually driving in the game. When used with the controller, turning the wheel actually causes the character on screen to turn.\n",
    "\n",
    "- **`title`**: String, The title of the auctions.\n",
    "\n",
    "The modified dataset is available as a CSV file named `mariokart.csv` and can be downloaded from [here](https://raw.githubusercontent.com/imranture/practice_stats/main/datasets/mariokart.csv). "
   ]
  },
  {
   "cell_type": "markdown",
   "metadata": {},
   "source": [
    "**Exercise 0**: Read in the dataset as `df` and display the first 10 rows. How many rows and columns are there?"
   ]
  },
  {
   "cell_type": "markdown",
   "metadata": {},
   "source": [
    "**Exercise 1**:  Display 5 randomly sampled rows and make sure that the variable types match the data descriptions outlined in the Data Overview above."
   ]
  },
  {
   "cell_type": "markdown",
   "metadata": {},
   "source": [
    "**Exercise 2**: Generate summary statistics of `df`. \n",
    "\n",
    "**Hint**: Use the `describe()` method with `include = np.number` and `include = np.object`."
   ]
  },
  {
   "cell_type": "markdown",
   "metadata": {},
   "source": [
    "**Exercise 3**: Plot a histogram of `total_pr` with 30 bins to see the distribution. What do you notice?"
   ]
  },
  {
   "cell_type": "markdown",
   "metadata": {},
   "source": [
    "**Exercise 4**: Are there any ID-like column(s)? If there are, remove them. Why should we remove ID-like columns?"
   ]
  },
  {
   "cell_type": "markdown",
   "metadata": {},
   "source": [
    "**Exercise 5**: Are there any missing values?"
   ]
  },
  {
   "cell_type": "markdown",
   "metadata": {},
   "source": [
    "**Exercise 6**: Identify the row(s) with missing values. "
   ]
  },
  {
   "cell_type": "markdown",
   "metadata": {},
   "source": [
    "**Exercise 7**: Remove the row(s) with missing values and make sure there are no missing values left."
   ]
  },
  {
   "cell_type": "markdown",
   "metadata": {},
   "source": [
    "**Exercise 8**: `seller_rate` is the number of positive reviews minus the number of negative reviews. Discretize the numerical variable, `seller_rate` and make it a categorical variable with 5 categories: *very low*, *low*, *medium*, *high* and *very high*."
   ]
  },
  {
   "cell_type": "markdown",
   "metadata": {},
   "source": [
    "**Exercise 9**: Perform integer encoding for `seller_rate` such that *very low* is 0, *low* is 1, *medium* is 2, *high* is 3 and *very high* is 4."
   ]
  },
  {
   "cell_type": "markdown",
   "metadata": {},
   "source": [
    "**Exercise 10**: Use one hot encoding for the remaining categorical features. How many columns do we have now? Why?"
   ]
  }
 ],
 "metadata": {
  "kernelspec": {
   "display_name": "Python 3 (ipykernel)",
   "language": "python",
   "name": "python3"
  },
  "language_info": {
   "codemirror_mode": {
    "name": "ipython",
    "version": 3
   },
   "file_extension": ".py",
   "mimetype": "text/x-python",
   "name": "python",
   "nbconvert_exporter": "python",
   "pygments_lexer": "ipython3",
   "version": "3.10.0"
  }
 },
 "nbformat": 4,
 "nbformat_minor": 4
}
