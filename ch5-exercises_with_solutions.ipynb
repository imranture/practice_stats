{
 "cells": [
  {
   "cell_type": "markdown",
   "metadata": {},
   "source": [
    "# Chapter 5: Practice Exercises with Solutions"
   ]
  },
  {
   "cell_type": "code",
   "execution_count": 1,
   "metadata": {},
   "outputs": [],
   "source": [
    "import numpy as np\n",
    "from scipy.stats import norm"
   ]
  },
  {
   "cell_type": "markdown",
   "metadata": {},
   "source": [
    "**Exercise 1:** As part of a quality control process for computer chips, an engineer randomly samples 232 chips at a factory during a week of production to test the current rate of chips with severe defects. She finds that 34 of the chips are defective.\n",
    "\n",
    "A) What is the population under consideration in this study?\n",
    "\n",
    "B) What parameter is being estimated?\n",
    "\n",
    "C) What is the point estimate for the parameter $\\hat{p}$?\n",
    "\n",
    "D) Compute the standard error to measure the uncertainty in the point estimate."
   ]
  },
  {
   "cell_type": "code",
   "execution_count": 2,
   "metadata": {},
   "outputs": [
    {
     "name": "stdout",
     "output_type": "stream",
     "text": [
      "\n",
      "A) All computer chips manufactured at the factory during the week of production.\n",
      "\n",
      "B) The proportion of computer chips manufactured at the factory during the week of production that had defects.\n",
      "\n",
      "C) We estimate the parameter by computing the observed value in the data: p_hat = 34/232 = 0.15\n",
      "\n",
      "D) SE = (p_hat(1-p_hat)/n)^1/2 = 0.023\n"
     ]
    }
   ],
   "source": [
    "print('''\n",
    "A) All computer chips manufactured at the factory during the week of production.''')\n",
    "\n",
    "print('''\n",
    "B) The proportion of computer chips manufactured at the factory during the week of production that had defects.''')\n",
    "\n",
    "print('''\n",
    "C) We estimate the parameter by computing the observed value in the data: p_hat = 34/232 =''', '%.2f' % (34/232))\n",
    "\n",
    "print('''\n",
    "D) SE = (p_hat(1-p_hat)/n)^1/2 =''', '%.3f' % (np.sqrt(0.15*(1-0.15)/232)))"
   ]
  },
  {
   "cell_type": "markdown",
   "metadata": {},
   "source": [
    "**Exercise 2:** (fictional) Of all the first year university students, 18% made the Dean's list in the current year. As part of a class project, students randomly sample 40 students and check if those students made the list. They repeat this 1,000 times and build a distribution of sample proportions.\n",
    "\n",
    "A) What is this distribution called?\n",
    "\n",
    "B) Calculate the variability of this distribution."
   ]
  },
  {
   "cell_type": "code",
   "execution_count": 3,
   "metadata": {},
   "outputs": [
    {
     "name": "stdout",
     "output_type": "stream",
     "text": [
      "A) Sampling distribution.\n",
      "\n",
      "B) SE = (p_hat(1-p_hat)/n)^1/2 = 0.061\n"
     ]
    }
   ],
   "source": [
    "print('A) Sampling distribution.')\n",
    "\n",
    "print('''\n",
    "B) SE = (p_hat(1-p_hat)/n)^1/2 =''', round(np.sqrt(0.18*(1-0.18)/40), 3))"
   ]
  },
  {
   "cell_type": "markdown",
   "metadata": {},
   "source": [
    "**Exercise 3:** A website is trying to increase registration for first-time visitors, exposing 1% of these visitors to a new site design. Of 782 randomly sampled visitors over a month who saw the new design, 64 of them registered.\n",
    "\n",
    "A) Check any conditions required for constructing a confidence interval.\n",
    "\n",
    "B) Compute the standard error.\n",
    "\n",
    "C) Construct and interpret a 90% confidence interval for the fraction of first-time visitors of the site who would register under the new design (assuming stable behaviors by new visitors over time).\n",
    "\n",
    "D) This time, construct a 95% confidence interval. Is this interval wider or narrower? Why?"
   ]
  },
  {
   "cell_type": "code",
   "execution_count": 4,
   "metadata": {},
   "outputs": [
    {
     "name": "stdout",
     "output_type": "stream",
     "text": [
      "\n",
      "A) (1) The visitors are from a simple random sample, so the independence condition is satisfied. \n",
      "   (2) The success-failure condition is also satisfied, with both 64 and 782-64 = 718 above 10. \n",
      "   Therefore, we can use a normal distribution to model p_hat and construct a confidence interval.\n",
      "\n",
      "B) The sample proportion is: p_hat = 64/782 = 0.08\n",
      "   SE = (p_hat*(1-p_hat)/n)^1/2 = 0.010\n",
      "\n",
      "C) For a 90% confidence interval, use z = 1.6449\n",
      "    \n",
      "   The confidence interval is therefore, point estimate +/- z x SE = \n",
      "   0.08 +/- 1.65 x 0.010 =\n",
      "   0.06355 , 0.09645000000000001\n",
      "   We are 90% confident that 6.35% to 9.65% of first-time site visitors will register using the new design.\n",
      "\n",
      "D) For a 95% confidence interval, use z = 1.96\n",
      "    \n",
      "   The confidence interval is therefore, point estimate +/- z x SE = \n",
      "   0.08 +/- 1.96 x 0.010 =\n",
      "   0.0604 , 0.0996\n",
      "   We are 95% confident that 6.04% to 9.96% of first-time site visitors will register using the new design.\n",
      "\n",
      "   This interval is wider as we would like to be even more confident that \n",
      "   the true proportion of registering first-time visitors is in this interval.\n"
     ]
    }
   ],
   "source": [
    "print('''\n",
    "A) (1) The visitors are from a simple random sample, so the independence condition is satisfied. \n",
    "   (2) The success-failure condition is also satisfied, with both 64 and 782-64 = 718 above 10. \n",
    "   Therefore, we can use a normal distribution to model p_hat and construct a confidence interval.''')\n",
    "\n",
    "print('''\n",
    "B) The sample proportion is: p_hat = 64/782 =''', round(64/782, 2))\n",
    "print(\"   SE = (p_hat*(1-p_hat)/n)^1/2 =\", '%.3f' % (np.sqrt(0.08*(1-0.08)/782)))\n",
    "\n",
    "print('''\n",
    "C) For a 90% confidence interval, use z =''',  norm.ppf(0.95).round(4))\n",
    "print('''    \n",
    "   The confidence interval is therefore, point estimate +/- z x SE = \n",
    "   0.08 +/- 1.65 x 0.010 =\n",
    "  ''', 0.08-1.645*0.010, \",\", 0.08+1.645*0.010)\n",
    "print(\"   We are 90% confident that 6.35% to 9.65% of first-time site visitors will register using the new design.\")\n",
    "\n",
    "print('''\n",
    "D) For a 95% confidence interval, use z =''',  norm.ppf(0.975).round(4))\n",
    "print('''    \n",
    "   The confidence interval is therefore, point estimate +/- z x SE = \n",
    "   0.08 +/- 1.96 x 0.010 =\n",
    "  ''', 0.08-1.96*0.010, \",\", 0.08+1.96*0.010)\n",
    "\n",
    "print(\"   We are 95% confident that 6.04% to 9.96% of first-time site visitors will register using the new design.\")\n",
    "\n",
    "print(\"\"\"\n",
    "   This interval is wider as we would like to be even more confident that \n",
    "   the true proportion of registering first-time visitors is in this interval.\"\"\")"
   ]
  },
  {
   "cell_type": "markdown",
   "metadata": {},
   "source": [
    "**Exercise 4:** (fictional) 400 students were randomly sampled from RMIT and 220 of them said they go to the gym at least once a week. Using the Prepare Check Calculate Conclude framework, conduct a hypothesis test to check whether this represents a statistically significant difference from 50%:\n",
    "\n",
    "A) Using a significance level of 1%.\n",
    "\n",
    "B) Using a significance level of 5%.\n",
    "\n",
    "C) Explain how and why the conclusion changes when the significance level changes."
   ]
  },
  {
   "cell_type": "code",
   "execution_count": 5,
   "metadata": {},
   "outputs": [
    {
     "name": "stdout",
     "output_type": "stream",
     "text": [
      "A) Using a significance level of 1%\n",
      "\n",
      "PREPARE\n",
      "The parameter of interest: The proportion of RMIT students who go to the gym at least once a week.\n",
      "Set up hypotheses: \n",
      "Ho: p = 0.50\n",
      "Ha: p != 0.50\n",
      "Significance level (alpha): %1\n",
      "\n",
      "CHECK\n",
      "(1) Independence: It is given that 400 students were randomly sampled from RMIT, hence random sampling gets us independence.\n",
      "(2) Success-failure: n*p0 = 400*(0.5) = 200.0 and n*(1-p0) = 400*(0.5) = 200.0 are both >= 10, \n",
      "hence the success-failure conditions are satisfied.\n",
      "\n",
      "CALCULATE\n",
      "The Z-score is 2.0. The Z-score's one-tail area: 0.023, yet this is a two-sided hypothesis testing.\n",
      "Thus, the p-value is twice this one-tail area: 0.046\n",
      "\n",
      "CONCLUDE (with 1%)\n",
      "Because the p-value of 4.6% is greater than alpha = 1%, we do NOT REJECT the null hypothesis and \n",
      "conclude that the proportion of RMIT students who go to the gym at least once a week is not different than 50%. \n",
      "\n",
      "B) Using a significance level of 5%\n",
      "CONCLUDE (with 5%)\n",
      "Because the p-value of 4.6% is smaller than alpha = 5%, we do REJECT the null hypothesis and \n",
      "conclude that the proportion of RMIT students who go to the gym at least once a week is actually different than 50%. \n",
      "In this particular case, the data suggests that the actual proportion is higher than 50% (since p_hat = 0.55).\n",
      "\n",
      "C) Why the conclusion changes:\n",
      "The significance level controls the Type 1 error probability. A 1% significance is very conservative and \n",
      "it will rarely reject the null hypothesis. On the other hand, a 5% significance level is more liberal and\n",
      "it will reject the null hypothesis more easily compared to the 1% level. Specifically, with a p-value of 4.6%,\n",
      "a 5% significance level will reject the null hypothesis whereas a 1% level will not reject it.\n",
      "\n"
     ]
    }
   ],
   "source": [
    "print('''A) Using a significance level of 1%\n",
    "\n",
    "PREPARE\n",
    "The parameter of interest: The proportion of RMIT students who go to the gym at least once a week.\n",
    "Set up hypotheses: \n",
    "Ho: p = 0.50\n",
    "Ha: p != 0.50\n",
    "Significance level (alpha): %1\n",
    "''')\n",
    "p0 = 0.5\n",
    "p_hat = 220/400\n",
    "n = 400   \n",
    "\n",
    "print(f'''CHECK\n",
    "(1) Independence: It is given that 400 students were randomly sampled from RMIT, hence random sampling gets us independence.\n",
    "(2) Success-failure: n*p0 = 400*(0.5) = {n*p0} and n*(1-p0) = 400*(0.5) = {n*(1-p0)} are both >= 10, \n",
    "hence the success-failure conditions are satisfied.\n",
    "''')\n",
    "\n",
    "print('CALCULATE')\n",
    "se = np.sqrt(p0*(1 - p0)/n)\n",
    "z_score = round((p_hat - p0)/se, 2)\n",
    "print(f'''The Z-score is {z_score}. The Z-score's one-tail area: {round(1 - norm.cdf(np.abs(z_score)), 3)}, yet this is a two-sided hypothesis testing.\n",
    "Thus, the p-value is twice this one-tail area: {round(2*(1 - norm.cdf(np.abs(z_score))), 3)}\n",
    "''')\n",
    "\n",
    "print('''CONCLUDE (with 1%)\n",
    "Because the p-value of 4.6% is greater than alpha = 1%, we do NOT REJECT the null hypothesis and \n",
    "conclude that the proportion of RMIT students who go to the gym at least once a week is not different than 50%. \n",
    "''')\n",
    "\n",
    "print(f'''B) Using a significance level of 5%\n",
    "CONCLUDE (with 5%)\n",
    "Because the p-value of 4.6% is smaller than alpha = 5%, we do REJECT the null hypothesis and \n",
    "conclude that the proportion of RMIT students who go to the gym at least once a week is actually different than 50%. \n",
    "In this particular case, the data suggests that the actual proportion is higher than 50% (since p_hat = 0.55).\n",
    "''')\n",
    "\n",
    "print('''C) Why the conclusion changes:\n",
    "The significance level controls the Type 1 error probability. A 1% significance is very conservative and \n",
    "it will rarely reject the null hypothesis. On the other hand, a 5% significance level is more liberal and\n",
    "it will reject the null hypothesis more easily compared to the 1% level. Specifically, with a p-value of 4.6%,\n",
    "a 5% significance level will reject the null hypothesis whereas a 1% level will not reject it.\n",
    "''')"
   ]
  }
 ],
 "metadata": {
  "hide_input": false,
  "kernelspec": {
   "display_name": "Python 3 (ipykernel)",
   "language": "python",
   "name": "python3"
  },
  "language_info": {
   "codemirror_mode": {
    "name": "ipython",
    "version": 3
   },
   "file_extension": ".py",
   "mimetype": "text/x-python",
   "name": "python",
   "nbconvert_exporter": "python",
   "pygments_lexer": "ipython3",
   "version": "3.9.7"
  }
 },
 "nbformat": 4,
 "nbformat_minor": 4
}
