{
 "cells": [
  {
   "cell_type": "markdown",
   "metadata": {
    "tags": []
   },
   "source": [
    "# Chapter 4 - Normal distribution: Practice Exercises with Solutions\n",
    "---"
   ]
  },
  {
   "cell_type": "markdown",
   "metadata": {},
   "source": [
    "**Exercise 1:** Jane and Mark both run in the 1000 metres, a popular track race in the olympics. Jane competed in the Women, Ages 20 - 24 group, while Mark competed in the Men, Ages 25 - 29 group. Jane completed the race in 246 seconds, while Mark completed the race in 221 seconds.\n",
    "\n",
    "Obviously Mark finished faster, but they are curious about how they did within their respective groups. Here is some information on the performance of their groups:\n",
    "- The finishing times of the Women, Ages 20 - 24 group has a mean of 224 seconds with a standard deviation of 46 seconds.\n",
    "- The finishing times of the Men, Ages 25 - 29 group has a mean of 181 seconds with a standard deviation of 35 seconds.\n",
    "- The distributions of finishing times for both groups are nearly normal. \n",
    "\n",
    "Keep in mind that a better performance corresponds to a faster finish.\n",
    "\n",
    "A) What are the Z-scores for Jane's and Mark's finishing times? What do these Z-scores tell you?\n",
    "\n",
    "B) Did Jane or Mark rank better in their respective groups? Explain your reasoning.\n",
    "\n",
    "C) What percent of the runners did Mark finish faster than in his group?\n",
    "\n",
    "D) What percent of the runners did Jane finish faster than in her group?\n",
    "\n",
    "**Hint:** Use `norm` function from [`scipy.stats`](https://docs.scipy.org/doc/scipy/reference/generated/scipy.stats.norm.html?highlight=norm)."
   ]
  },
  {
   "cell_type": "code",
   "execution_count": 1,
   "metadata": {},
   "outputs": [
    {
     "name": "stdout",
     "output_type": "stream",
     "text": [
      "A) Z-score for Jane's finishing times =  0.48\n",
      "   Z-score for Mark's finishing times =  1.14\n",
      "\n",
      "   Jane finished 0.48 standard deviations above the mean of her group's finishing times and\n",
      "   Mark finished 1.14 standard deviations above the mean of his group's finishing times.\n",
      "\n",
      "B) While Mark finished 1.14 standard deviations above the mean of his group's finishing times,\n",
      "   Jane finished only 0.48 standard deviations above the mean of her group's finishing times.\n",
      "   Therefore, Jane ranked better in her group than Mark did in his group.\n",
      "\n",
      "C) P(Z > 1.14) = 1 − P(Z < 1.14) = 0.1271\n",
      "   Mark finished fasther than 12.7% of the runners in his group.\n",
      "\n",
      "D) P(Z > 0.48) = 1 − P(Z < 0.48) = 0.3156\n",
      "   Jane finished faster than 31.5% of the runners in her group.\n"
     ]
    }
   ],
   "source": [
    "from scipy.stats import norm\n",
    "\n",
    "z_jane = round((246 - 224)/46, 2)\n",
    "z_mark = round((221 - 181)/35, 2)\n",
    "\n",
    "print(\"A) Z-score for Jane's finishing times = \", z_jane)\n",
    "\n",
    "print(\"   Z-score for Mark's finishing times = \", z_mark)\n",
    "print(f'''\n",
    "   Jane finished {z_jane} standard deviations above the mean of her group's finishing times and\n",
    "   Mark finished {z_mark} standard deviations above the mean of his group's finishing times.''')\n",
    "\n",
    "print(f'''\n",
    "B) While Mark finished {z_mark} standard deviations above the mean of his group's finishing times,\n",
    "   Jane finished only {z_jane} standard deviations above the mean of her group's finishing times.\n",
    "   Therefore, Jane ranked better in her group than Mark did in his group.''')\n",
    "\n",
    "print('''\n",
    "C) P(Z > 1.14) = 1 − P(Z < 1.14) =''', 1 - norm.cdf(z_mark).round(4))\n",
    "print('   Mark finished fasther than 12.7% of the runners in his group.')\n",
    "\n",
    "print('''\n",
    "D) P(Z > 0.48) = 1 − P(Z < 0.48) =''', 1 - norm.cdf(z_jane).round(4))\n",
    "print('   Jane finished faster than 31.5% of the runners in her group.')"
   ]
  },
  {
   "cell_type": "markdown",
   "metadata": {},
   "source": [
    "---"
   ]
  },
  {
   "cell_type": "markdown",
   "metadata": {},
   "source": [
    "**Exercise 2:** Suppose weights of airline passengers' checked baggage follow a nearly normal distribution with mean 20 kg and standard deviation 1.45 kg. Most airlines charge a fee for baggage that weigh in excess of 22 kg. Determine what percent of airline passengers incur this fee."
   ]
  },
  {
   "cell_type": "code",
   "execution_count": 2,
   "metadata": {},
   "outputs": [
    {
     "name": "stdout",
     "output_type": "stream",
     "text": [
      "P(Z > 1.38) = 1 − P(Z < 1.38) =  0.08\n",
      "8% of airline passengers incur this fee.\n"
     ]
    }
   ],
   "source": [
    "from scipy.stats import norm\n",
    "\n",
    "# Since the question does not ask us to compute the Z-score, we can directly use norm.cdf with loc = 20 and scale = 1.45\n",
    "print('P(Z > 1.38) = 1 − P(Z < 1.38) = ', round(1 - norm.cdf(x = 22, loc = 20, scale = 1.45), 2))\n",
    "print('8% of airline passengers incur this fee.')"
   ]
  },
  {
   "cell_type": "markdown",
   "metadata": {},
   "source": [
    "---"
   ]
  },
  {
   "cell_type": "markdown",
   "metadata": {},
   "source": [
    "**Exercise 3:** Suppose the distribution of auto insurance premiums for residents of California is approximately normal with a mean of USD 1,650 and a standard deviation of USD 223.\n",
    "\n",
    "A) What is the Z-score that corresponds to the top 25% of the standard normal\n",
    "distribution?\n",
    "\n",
    "B) What is the cutoff point for the top 25% of Californian residents?"
   ]
  },
  {
   "cell_type": "code",
   "execution_count": 3,
   "metadata": {},
   "outputs": [
    {
     "name": "stdout",
     "output_type": "stream",
     "text": [
      "A) The Z score corresponding to the upper 25% of the distribution is 0.67.\n",
      "\n",
      "B) The cutoff point for the top 25% of Californian residents is 1800.4. \n",
      "   In other words, top 25% of Californian residents pay more than $1,800 for auto insurance premiums.\n"
     ]
    }
   ],
   "source": [
    "from scipy.stats import norm\n",
    "\n",
    "z_top25 = norm.ppf(0.75).round(2)\n",
    "print(f'A) The Z score corresponding to the upper 25% of the distribution is {z_top25}.')\n",
    "print()\n",
    "\n",
    "cutoff_top25 = norm.ppf(q = 0.75, loc = 1650, scale = 223).round(1)\n",
    "print(f'''B) The cutoff point for the top 25% of Californian residents is {cutoff_top25}. \n",
    "   In other words, top 25% of Californian residents pay more than $1,800 for auto insurance premiums.''')"
   ]
  },
  {
   "cell_type": "markdown",
   "metadata": {},
   "source": [
    "---"
   ]
  },
  {
   "cell_type": "markdown",
   "metadata": {},
   "source": [
    "**Exercise 4:** Cholesterol levels for men aged 55 to 64 are normally distributed with mean 222 milligrams per deciliter (mg/dl) and standard deviation 37 mg/dL. A cholesterol level above 240 is a health concern. Find the proportion of the men population aged 55 to 64 with a cholesterol level above 240."
   ]
  },
  {
   "cell_type": "code",
   "execution_count": 4,
   "metadata": {},
   "outputs": [
    {
     "name": "stdout",
     "output_type": "stream",
     "text": [
      "The proportion of the men population aged 55 to 64 that has a cholesterol level above 240 is 0.31.\n",
      "In other words, 31% of men aged 55 to 64 have cholesterol levels greater than 240.\n"
     ]
    }
   ],
   "source": [
    "from scipy.stats import norm\n",
    "\n",
    "prob_above240 = 1 - norm.cdf(x = 240, loc = 222, scale = 37).round(2)\n",
    "\n",
    "print(f'''The proportion of the men population aged 55 to 64 that has a cholesterol level above 240 is {prob_above240.round(2)}.\n",
    "In other words, 31% of men aged 55 to 64 have cholesterol levels greater than 240.''')"
   ]
  },
  {
   "cell_type": "markdown",
   "metadata": {},
   "source": [
    "---"
   ]
  },
  {
   "cell_type": "markdown",
   "metadata": {},
   "source": [
    "For **Exercise 5** and **Exercise 6**, you will be working with body measurements of 507 physically active individuals. The data set contains measurements from 260 women and 247 men. Click [here](https://www.openintro.org/stat/data/bdims.csv) to download the dataset and read it as `bdims`. You can visit [this page](https://www.openintro.org/data/index.php?data=bdims) to view the details of this data set."
   ]
  },
  {
   "cell_type": "markdown",
   "metadata": {},
   "source": [
    "---"
   ]
  },
  {
   "cell_type": "markdown",
   "metadata": {},
   "source": [
    "**Exercise 5:** Make a histogram of women's heights and a histogram of men's heights. How would you compare the various aspects of the two distributions?\n",
    "\n",
    "**Hint:** `sex = 0` means female, otherwise male."
   ]
  },
  {
   "cell_type": "code",
   "execution_count": 5,
   "metadata": {},
   "outputs": [
    {
     "data": {
      "image/png": "[encoded data removed]",
      "text/plain": [
       "<Figure size 800x700 with 1 Axes>"
      ]
     },
     "metadata": {},
     "output_type": "display_data"
    },
    {
     "name": "stdout",
     "output_type": "stream",
     "text": [
      "Both distributions roughly follow the normal distribution.\n"
     ]
    }
   ],
   "source": [
    "import pandas as pd\n",
    "import matplotlib.pyplot as plt\n",
    "%matplotlib inline \n",
    "plt.rcParams['figure.figsize'] = (8, 7)\n",
    "\n",
    "bdims = pd.read_csv('datasets/bdims.csv')\n",
    "\n",
    "# Create two data sets: one with only women and one with only men\n",
    "fdims = bdims[bdims['sex'] == 0]\n",
    "mdims = bdims[bdims['sex'] == 1]\n",
    "\n",
    "plt.hist(fdims['hgt'], color = 'r', alpha = 0.70, label = \"women's heights\")\n",
    "plt.hist(mdims['hgt'], color = 'b', alpha = 0.70, label = \"men's heights\")\n",
    "\n",
    "plt.xlabel('Height (cm)')\n",
    "plt.ylabel('Frequency')\n",
    "plt.title('Height distributions for both women and men')\n",
    "plt.legend()\n",
    "plt.show();\n",
    "\n",
    "print('Both distributions roughly follow the normal distribution.')"
   ]
  },
  {
   "cell_type": "markdown",
   "metadata": {},
   "source": [
    "---"
   ]
  },
  {
   "cell_type": "markdown",
   "metadata": {},
   "source": [
    "**Exercise 6:** Assuming that men's heights are normally distributed, what is the probability that a randomly chosen young adult man is taller than 190 cm?"
   ]
  },
  {
   "cell_type": "code",
   "execution_count": 6,
   "metadata": {},
   "outputs": [
    {
     "name": "stdout",
     "output_type": "stream",
     "text": [
      "The probability that a randomly chosen young adult man is taller than 190 cm is 0.044\n"
     ]
    }
   ],
   "source": [
    "from scipy.stats import norm\n",
    "\n",
    "mhgtmean = mdims['hgt'].mean()\n",
    "mhgtsd =  mdims['hgt'].std()\n",
    "\n",
    "prob_above190 = 1 - norm.cdf(x = 190, loc = mhgtmean, scale = mhgtsd )\n",
    "\n",
    "print('The probability that a randomly chosen young adult man is taller than 190 cm is', prob_above190.round(4))"
   ]
  }
 ],
 "metadata": {
  "hide_input": false,
  "kernelspec": {
   "display_name": "Python 3 (ipykernel)",
   "language": "python",
   "name": "python3"
  },
  "language_info": {
   "codemirror_mode": {
    "name": "ipython",
    "version": 3
   },
   "file_extension": ".py",
   "mimetype": "text/x-python",
   "name": "python",
   "nbconvert_exporter": "python",
   "pygments_lexer": "ipython3",
   "version": "3.10.0"
  }
 },
 "nbformat": 4,
 "nbformat_minor": 4
}
