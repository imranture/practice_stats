{
 "cells": [
  {
   "cell_type": "markdown",
   "metadata": {},
   "source": [
    "# Chapter 8: Practice Exercises\n",
    "---"
   ]
  },
  {
   "cell_type": "markdown",
   "metadata": {},
   "source": [
    "**Exercise 1:** The following regression output is for predicting the tail length (`length`, in centimeters) of kangaroos using their body weight (`weight`, in kilograms). The coefficients are estimated using a dataset of 200 kangaroos.\n",
    "\n",
    "| . | Estimate | Std. Error   |\n",
    "|------|------|------|\n",
    "|  (Intercept)  | -0.437   | 0.552   |\n",
    "|   weight  | 5.034    | 0.340|\n",
    "|   R-squared = 64.6%  |      |\n",
    "\n",
    "(A) Write out the linear model.\n",
    "\n",
    "(B) Interpret the intercept.\n",
    "\n",
    "(C) Interpret the slope.\n",
    "\n",
    "(D) Interpret the R-squared value.\n",
    "\n",
    "(E) Calculate the correlation coefficient."
   ]
  },
  {
   "cell_type": "markdown",
   "metadata": {},
   "source": [
    "---\n",
    "**Exercise 2**: Many people believe that gender, weight, drinking habits, and many other factors are much more important in predicting blood alcohol content (BAC) than simply considering the number of drinks a person consumed. Here we examine data from sixteen student volunteers at Ohio State University who each drank a randomly assigned number of cans of beer. These students were evenly divided between men and women, and they differed in weight and drinking habits. Thirty minutes later, a police officer measured their blood alcohol content (BAC) in grams of alcohol per deciliter of blood. The regression table summarize the findings.\n",
    "\n",
    "| . | Estimate | Std. Error   | t value   | p-value  |\n",
    "|------|------|------|------|------|\n",
    "|  (Intercept)  | -0.0127   | 0.0126  | -1.00  | 0.3320  |\n",
    "|   beers  | 0.0180    | 0.0024| 7.48| 0.0000|  \n",
    "\n",
    "(A) Write out the linear model.\n",
    "\n",
    "(B) Interpret the intercept.\n",
    "\n",
    "(C) Interpret the slope.\n",
    "\n",
    "(D) Do the data provide strong evidence that drinking more cans of beer is associated with an increase in blood alcohol? State the null and alternative hypotheses, report the p-value, and state your conclusion.\n",
    "\n",
    "(E) The correlation coefficient for number of cans of beer and BAC is 0.89. Calculate ${R^2}$ and interpret it in\n",
    "context."
   ]
  },
  {
   "cell_type": "markdown",
   "metadata": {},
   "source": [
    "---\n",
    "## Baseball Player Statistics (MLB11)\n",
    "\n",
    "The movie [Moneyball](https://www.imdb.com/title/tt1210166/) focuses on the \"quest for the secret of success in baseball\". It follows a low-budget team, the Oakland Athletics, who believed that under-used statistics, such as a player's ability to get on base, better predict the ability to score runs than typical statistics like home runs, RBIs (runs batted in), and batting average. Obtaining players who excelled in these under-used statistics turned out to be much more affordable for the team.\n",
    "\n",
    "Data Source: https://www.mlb.com/\n",
    "\n",
    "The data set is available as a CSV file named `mlb11.csv` (Download from [here](https://raw.githubusercontent.com/imranture/practice_stats/main/datasets/mlb11.csv))."
   ]
  },
  {
   "cell_type": "markdown",
   "metadata": {},
   "source": [
    "---\n",
    "**Exercise 3:** Compute the correlation of `runs` (number of runs) and `bat_avg` (batting average, which is the number of hits divided by at bats).\n",
    "\n",
    "**Hint**: Use [`corr()`](https://pandas.pydata.org/pandas-docs/stable/reference/api/pandas.DataFrame.corr.html) function."
   ]
  },
  {
   "cell_type": "markdown",
   "metadata": {},
   "source": [
    "---\n",
    "**Exercise 4:** Construct a simple linear model for `runs` as dependent variable and `bat_avg` as the independent variable. Find the slope, intercept, and R-squared values.\n",
    "\n",
    "**Hint**: Use [`statsmodels`](https://www.statsmodels.org/stable/regression.html) to fit the linear model."
   ]
  },
  {
   "cell_type": "markdown",
   "metadata": {},
   "source": [
    "---\n",
    "**Exercise 5:** Summarize the relationship between these two variables by finding the line that best describes their relationship. In other words, plot `bat_avg` vs. `runs`, both actual `runs` (as a scatter plot) and predicted `runs` (as a line plot)."
   ]
  },
  {
   "cell_type": "markdown",
   "metadata": {},
   "source": [
    "---\n",
    "*Solutions available [here](https://nbviewer.org/github/imranture/practice_stats/blob/main/ch8-exercises_with_solutions.ipynb).*"
   ]
  }
 ],
 "metadata": {
  "hide_input": false,
  "kernelspec": {
   "display_name": "Python 3 (ipykernel)",
   "language": "python",
   "name": "python3"
  },
  "language_info": {
   "codemirror_mode": {
    "name": "ipython",
    "version": 3
   },
   "file_extension": ".py",
   "mimetype": "text/x-python",
   "name": "python",
   "nbconvert_exporter": "python",
   "pygments_lexer": "ipython3",
   "version": "3.10.0"
  }
 },
 "nbformat": 4,
 "nbformat_minor": 4
}
