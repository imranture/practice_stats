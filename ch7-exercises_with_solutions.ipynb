{
 "cells": [
  {
   "cell_type": "markdown",
   "metadata": {},
   "source": [
    "# Chapter: Practice Exercises"
   ]
  },
  {
   "cell_type": "code",
   "execution_count": 1,
   "metadata": {},
   "outputs": [],
   "source": [
    "import numpy as np\n",
    "from scipy.stats import t"
   ]
  },
  {
   "cell_type": "markdown",
   "metadata": {},
   "source": [
    "**Exercise 1:** A 95% confidence interval for a population mean is given as (18.985, 21.015). This confidence interval is based on a simple random sample of 36 observations. Calculate the sample mean and standard deviation. Assume that all conditions necessary for inference are satisfied. Use the t-distribution in any calculations."
   ]
  },
  {
   "cell_type": "code",
   "execution_count": 2,
   "metadata": {},
   "outputs": [
    {
     "name": "stdout",
     "output_type": "stream",
     "text": [
      "\n",
      "The sample mean is the mid-point of the confidence interval, i.e. the average of the upper and lower bounds:\n",
      "sample mean = (18.985 + 21.015)/2 = 20.0\n",
      "\n",
      "The margin of error is 21.015 - 20 = 1.015. \n",
      "Since n = 36, degree of freedom is 35, and the critical t-score is\n",
      "2.03\n",
      "\n",
      "(1.015 = 2.03*(s/(36)^1/2) ---> sample standard deviation = 3.00\n"
     ]
    }
   ],
   "source": [
    "sample_mean = (18.985 + 21.015)/2\n",
    "print(f'''\n",
    "The sample mean is the mid-point of the confidence interval, i.e. the average of the upper and lower bounds:\n",
    "sample mean = (18.985 + 21.015)/2 = {sample_mean}''')\n",
    "\n",
    "n = 36\n",
    "df = n-1\n",
    "t_star = round(t.ppf(0.975, df), 2)\n",
    "print(f'''\n",
    "The margin of error is 21.015 - 20 = {(21.015 - sample_mean):.3f}. \n",
    "Since n = 36, degree of freedom is {df}, and the critical t-score is\n",
    "{t_star}''')\n",
    "\n",
    "print(f'''\n",
    "(1.015 = 2.03*(s/(36)^1/2) ---> sample standard deviation = {(1.015*np.sqrt(36)/t_star):.2f}''')"
   ]
  },
  {
   "cell_type": "markdown",
   "metadata": {},
   "source": [
    "**Exercise 2:** You are given the following hypotheses:\n",
    "\n",
    "$Ho$: $u$ = 60\n",
    "\n",
    "$Ha$: $u$ != 60\n",
    "\n",
    "We know that the sample standard deviation is 8 and the sample size is 20. For what sample mean would\n",
    "the p-value be equal to 0.05? Assume that all conditions necessary for inference are satisfied."
   ]
  },
  {
   "cell_type": "code",
   "execution_count": 3,
   "metadata": {},
   "outputs": [
    {
     "name": "stdout",
     "output_type": "stream",
     "text": [
      "\n",
      "    For the single tails to each be 0.025 at n - 1 = 20 - 1 = 19 degrees of freedom, T score must\n",
      "    equal to be either -2.09 or 2.09. Then, either:\n",
      "\n",
      "    -2.09 = (sample_mean-60)/(8/(20)^1/2) ---> sample_mean = 56.26\n",
      "\n",
      "     2.09 = (sample_mean-60)/(8/(20)^1/2) ---> sample_mean = 63.74\n"
     ]
    }
   ],
   "source": [
    "n = 20\n",
    "df = n-1\n",
    "t_star = round(t.ppf(0.975, df), 2)\n",
    "\n",
    "print(f'''\n",
    "    For the single tails to each be 0.025 at n - 1 = 20 - 1 = 19 degrees of freedom, T score must\n",
    "    equal to be either {-t_star} or {t_star}. Then, either:''')\n",
    "print(f'''\n",
    "    {-t_star} = (sample_mean-60)/(8/(20)^1/2) ---> sample_mean = {(-t_star*8/np.sqrt(n)+60):.2f}''')\n",
    "print(f'''\n",
    "     {t_star} = (sample_mean-60)/(8/(20)^1/2) ---> sample_mean = {(t_star*8/np.sqrt(n)+60):.2f}''')"
   ]
  },
  {
   "cell_type": "markdown",
   "metadata": {},
   "source": [
    "**Exercise 3:** Georgianna claims that in a small city renowned for its music school, the average child takes less than 5 years of piano lessons. We have a random sample of 20 children from the city, with a mean of 4.6 years of piano lessons and a standard deviation of 2.2 years. Evaluate Georgianna's claim using a hypothesis test."
   ]
  },
  {
   "cell_type": "code",
   "execution_count": 4,
   "metadata": {},
   "outputs": [
    {
     "name": "stdout",
     "output_type": "stream",
     "text": [
      "PREPARE\n",
      "The parameter of interest: The average number of years of piano lessons\n",
      "Set up hypotheses: \n",
      "Ho: u = 5\n",
      "Ha: u < 5\n",
      "Significance level (alpha): %5\n",
      "\n",
      "CHECK\n",
      "(1) Independence: 20 children were randomly sampled, hence random sampling gets us independence. \n",
      "(2) Normality: To check normality, we typically create a histogram of years of piano lessons and \n",
      "evaluate if we can move forward. Since data is not provided, to proceed, we assume the distribution \n",
      "of years of piano lessons is approximately normal.\n",
      "\n",
      "CALCULATE\n",
      "The T-score is -0.81. The one-tail area is 0.21\n",
      "\n",
      "CONCLUDE\n",
      "Because the p-value of 21% is greater than alpha = 5%, we do NOT REJECT the null hypothesis and \n",
      "conclude that there is no sufficiently strong evidence to reject the notion that the average is 5 years.\n",
      "\n"
     ]
    }
   ],
   "source": [
    "print('''PREPARE\n",
    "The parameter of interest: The average number of years of piano lessons\n",
    "Set up hypotheses: \n",
    "Ho: u = 5\n",
    "Ha: u < 5\n",
    "Significance level (alpha): %5\n",
    "''')\n",
    "x_null = 5\n",
    "x_bar = 4.6\n",
    "n = 20\n",
    "df = 20-1\n",
    "\n",
    "print(f'''CHECK\n",
    "(1) Independence: 20 children were randomly sampled, hence random sampling gets us independence. \n",
    "(2) Normality: To check normality, we typically create a histogram of years of piano lessons and \n",
    "evaluate if we can move forward. Since data is not provided, to proceed, we assume the distribution \n",
    "of years of piano lessons is approximately normal.\n",
    "''')\n",
    "\n",
    "se = 2.2/np.sqrt(n)\n",
    "t_score = round((x_bar-x_null)/se, 2)\n",
    "print(f'''CALCULATE\n",
    "The T-score is {t_score}. The one-tail area is {round(1-t.cdf(np.abs(t_score), df), 2)}\n",
    "''')\n",
    "\n",
    "print('''CONCLUDE\n",
    "Because the p-value of 21% is greater than alpha = 5%, we do NOT REJECT the null hypothesis and \n",
    "conclude that there is no sufficiently strong evidence to reject the notion that the average is 5 years.\n",
    "''')"
   ]
  },
  {
   "cell_type": "markdown",
   "metadata": {},
   "source": [
    "**Exercise 4:** Prices of diamonds are determined by what is known as the 4 Cs: cut, clarity, color, and carat weight. The prices of diamonds go up as the carat weight increases, but the increase is not smooth. See the table below for summary statistics, and then construct a 95% confidence interval for the average difference between the standardized prices of 0.99 and 1 carat diamonds. You may assume the conditions for inference are met.\n",
    "\n",
    "\n",
    "|Diamonds | Mean | SD   | n |\n",
    "|------|------|------|------    |\n",
    "|   0.99 carats  | 44.51   | 13.32    | 23       |\n",
    "|   1 carats  | 56.81    | 16.13 | 23   |"
   ]
  },
  {
   "cell_type": "code",
   "execution_count": 5,
   "metadata": {},
   "outputs": [
    {
     "name": "stdout",
     "output_type": "stream",
     "text": [
      "\n",
      "    The 95% confidence interval can be calculated as follows:\n",
      "    (sample_mean_0.99 - sample_mean_1) +- t_star x SE =\n",
      "    -21.35 , -3.25\n",
      "\n",
      "    We are 95% confident that the average standardized price of a 0.99 carat diamond is $3.27 to\n",
      "    $21.33 lower than the average standardized price of a 1 carat diamond.\n"
     ]
    }
   ],
   "source": [
    "n = 23\n",
    "df = n-1\n",
    "t_star = t.ppf(0.975, df)\n",
    "se = np.sqrt((13.32**2/n)+(16.13**2/n))\n",
    "\n",
    "print(f'''\n",
    "    The 95% confidence interval can be calculated as follows:\n",
    "    (sample_mean_0.99 - sample_mean_1) +- t_star x SE =\n",
    "    {((44.51-56.81) - t_star*se):.2f} , {((44.51-56.81) + t_star*se):.2f}''')\n",
    "print(f'''\n",
    "    We are 95% confident that the average standardized price of a 0.99 carat diamond is $3.27 to\n",
    "    $21.33 lower than the average standardized price of a 1 carat diamond.''')"
   ]
  },
  {
   "cell_type": "markdown",
   "metadata": {},
   "source": [
    "**Exercise 5:** In each of the following scenarios, determine if the data are paired.\n",
    "\n",
    "1. We would like to know if Apple's stock and American Airlines' stock have similar rates of return. To find out, we take a random sample of 50 days, and record Apple's and American' stock on those same days.\n",
    "\n",
    "**Answer**: Paired, on the same day the stock prices may be dependent on external factors that affect the price of both stocks.\n",
    "\n",
    "2. We randomly sample 50 items from Big W stores and note the price for each. Then we visit Kmart and collect the price for each of those same 50 items.\n",
    "\n",
    "**Answer**: Paired, the prices are for the same items.\n",
    "\n",
    "3. A research team would like to determine whether there is a difference in average PTE Academic scores for students at one university versus another university in the city. To check, they take a simple random sample of 100 students from each university.\n",
    "\n",
    "**Answer**: Not paired, these are two independent random samples, individual students are not matched."
   ]
  }
 ],
 "metadata": {
  "hide_input": false,
  "kernelspec": {
   "display_name": "Python 3 (ipykernel)",
   "language": "python",
   "name": "python3"
  },
  "language_info": {
   "codemirror_mode": {
    "name": "ipython",
    "version": 3
   },
   "file_extension": ".py",
   "mimetype": "text/x-python",
   "name": "python",
   "nbconvert_exporter": "python",
   "pygments_lexer": "ipython3",
   "version": "3.9.7"
  }
 },
 "nbformat": 4,
 "nbformat_minor": 4
}
