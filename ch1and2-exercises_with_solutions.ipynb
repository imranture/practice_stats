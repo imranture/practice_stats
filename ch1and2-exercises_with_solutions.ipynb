{
 "cells": [
  {
   "cell_type": "markdown",
   "metadata": {},
   "source": [
    "# Chapter 1 & 2: Practice Exercises with Solutions"
   ]
  },
  {
   "cell_type": "markdown",
   "metadata": {},
   "source": [
    "In this exercise, you will gain insight into public health by generating simple graphical and numerical summaries of a dataset collected by the U.S. Centers for Disease Control and Prevention (CDC).\n",
    "\n",
    "The Behavioral Risk Factor Surveillance System (BRFSS) is an annual telephone survey of 350,000 people in the United States. As its name implies, the BRFSS is designed to identify risk factors in the adult population and report emerging health trends. For example, respondents are asked about their diet and weekly physical activity, their HIV/AIDS status, possible tobacco use, and even their level of healthcare coverage.\n",
    "\n",
    "Data source: https://www.cdc.gov/brfss/\n",
    "\n",
    "In this exercise, we will focus on a random sample of 20,000 people from the BRFSS survey conducted in 2000. While there are over 200 variables in this data set, we will work with a small subset.\n",
    "\n",
    "The data set is available as a CSV file named `cdc.csv` (Download from [here](https://raw.githubusercontent.com/imranture/practice_stats/main/datasets/cdc.csv))."
   ]
  },
  {
   "cell_type": "markdown",
   "metadata": {},
   "source": [
    "**Exercise 1:** Place the CSV file under the same directory where your Jupyter Notebook file is. Import Pandas as \"pd\" and NumPy as \"np\". Read the data into a Pandas data frame called `df`."
   ]
  },
  {
   "cell_type": "code",
   "execution_count": 1,
   "metadata": {},
   "outputs": [],
   "source": [
    "import pandas as pd\n",
    "import numpy as np\n",
    "\n",
    "df = pd.read_csv('datasets/cdc.csv')"
   ]
  },
  {
   "cell_type": "markdown",
   "metadata": {},
   "source": [
    "**Exercise 2:** How many observations are there in this dataset?\n",
    "\n",
    "**Hint:** Use `shape()`."
   ]
  },
  {
   "cell_type": "code",
   "execution_count": null,
   "metadata": {},
   "outputs": [],
   "source": [
    "df.shape[0]"
   ]
  },
  {
   "cell_type": "markdown",
   "metadata": {},
   "source": [
    "**Exercise 3:** Display the first 10 rows."
   ]
  },
  {
   "cell_type": "code",
   "execution_count": null,
   "metadata": {},
   "outputs": [],
   "source": [
    "df.head(10)"
   ]
  },
  {
   "cell_type": "markdown",
   "metadata": {},
   "source": [
    "**Exercise 4:** How many variables are there in this dataset? For each variable, identify its data type (e.g., categorical, numerical).\n",
    "\n",
    "**Hint:** Try using Pandas' `dtypes()` method on your data frame. In the output of this method, `object` data type (\"dtype\") stands for a string type, which usually indicates a categorical variable. However, some numerical variables can actually be categorical in nature (think about `hlthplan`, for instance)."
   ]
  },
  {
   "cell_type": "code",
   "execution_count": null,
   "metadata": {},
   "outputs": [],
   "source": [
    "df.shape[1]"
   ]
  },
  {
   "cell_type": "code",
   "execution_count": null,
   "metadata": {},
   "outputs": [],
   "source": [
    "print(df.dtypes)\n",
    "\n",
    "print('''\n",
    "Categorical variables: \n",
    "genhlth (ordinal), exerany, hlthplan, smoke100 and gender''')\n",
    "\n",
    "print('''\n",
    "Numerical variables: \n",
    "height, weight, wtdesire and age''')"
   ]
  },
  {
   "cell_type": "markdown",
   "metadata": {},
   "source": [
    "**Exercise 5:**  State how many levels each categorical variable has. Print all the levels for each categorical variable.\n",
    "\n",
    "**Hint:** Use Pandas' `unique()` and `nunique()`."
   ]
  },
  {
   "cell_type": "code",
   "execution_count": null,
   "metadata": {},
   "outputs": [],
   "source": [
    "categorical_variables = ['genhlth', 'exerany', 'hlthplan', 'smoke100', 'gender']\n",
    "\n",
    "for col in categorical_variables:\n",
    "    print(f'column: {col}')\n",
    "    print(f'{df[col].unique()}')\n",
    "    print(f'There are {df[col].nunique()} levels in {col} categorical variable.\\n')"
   ]
  },
  {
   "cell_type": "markdown",
   "metadata": {},
   "source": [
    "**Exercise 6:** Find the mean, sample standard deviation, and median of `weight`."
   ]
  },
  {
   "cell_type": "code",
   "execution_count": null,
   "metadata": {},
   "outputs": [],
   "source": [
    "print('mean: ', df['weight'].mean().round(2))\n",
    "print('std: ', df['weight'].std(ddof = 1).round(2))\n",
    "print('median: ', df['weight'].median())"
   ]
  },
  {
   "cell_type": "markdown",
   "metadata": {},
   "source": [
    "**Exercise 7:** Find the mean, sample standard deviation, and median of `weight` for respondents who exercised in the past month. Is there any significant difference in the results when compared to the results of Exercise 6?\n",
    "\n",
    "**Hint:** `exerany` is the variable that is 1 if the respondent exercised in the past month and 0 otherwise."
   ]
  },
  {
   "cell_type": "code",
   "execution_count": null,
   "metadata": {},
   "outputs": [],
   "source": [
    "print('mean: ', df[df['exerany'] == 1]['weight'].mean().round(2))\n",
    "print('std: ', df[df['exerany'] == 1]['weight'].std(ddof = 1).round(2))\n",
    "print('median: ', df[df['exerany'] == 1]['weight'].median())"
   ]
  },
  {
   "cell_type": "markdown",
   "metadata": {},
   "source": [
    "Compared with the previous results, there seems to be no significant difference."
   ]
  },
  {
   "cell_type": "markdown",
   "metadata": {},
   "source": [
    "**Exercise 8:** Compute the 5-number summary for `wtdesire`, respondent's desired weight in pound, in ascending order (that is, min, Q1, Q2 (median), Q3, and max). Also compute the interquartile range (IQR) for this variable (which is Q3-Q1). In addition, compute max upper whisker reach and max lower whisker reach. Based on these values, how many outliers are there for `wtdesire`? Finally, using Matplotlib, create a boxplot for this variable.\n",
    "\n",
    "**Hint:** For quantiles, you can use NumPy' `quantile()`."
   ]
  },
  {
   "cell_type": "markdown",
   "metadata": {},
   "source": [
    "**Exercise 9:** Let's consider a new variable: the difference between desired weight (`wtdesire`) and current weight (`weight`). Create this new variable by subtracting the two columns in the `df` data frame and assigning them to a new variable called `wdiff`. Display the first 5 rows of `df`. How many columns are there?"
   ]
  },
  {
   "cell_type": "code",
   "execution_count": null,
   "metadata": {},
   "outputs": [],
   "source": [
    "min_val = df['wtdesire'].min()\n",
    "q1_val  = df['wtdesire'].quantile(0.25)\n",
    "q2_val  = df['wtdesire'].quantile(0.50)  # this is also the median\n",
    "q3_val  = df['wtdesire'].quantile(0.75)\n",
    "max_val = df['wtdesire'].max()\n",
    "iqr     = q3_val - q1_val\n",
    "\n",
    "print('min:', min_val)\n",
    "print('q1:', q1_val)\n",
    "print('q2 (median):', q2_val)\n",
    "print('q3:', q3_val)\n",
    "print('max:', max_val)\n",
    "print('IQR:', iqr)"
   ]
  },
  {
   "cell_type": "code",
   "execution_count": null,
   "metadata": {
    "scrolled": true
   },
   "outputs": [],
   "source": [
    "max_whisker = q3_val + 1.5*iqr\n",
    "min_whisker = q1_val - 1.5*iqr\n",
    "print('max_whisker:', max_whisker)\n",
    "print('min_whisker:', min_whisker)"
   ]
  },
  {
   "cell_type": "code",
   "execution_count": null,
   "metadata": {
    "scrolled": true
   },
   "outputs": [],
   "source": [
    "wtdesire_outliers = df[(df['wtdesire'] < min_whisker) | \n",
    "                        (df['wtdesire'] > max_whisker)]['wtdesire']\n",
    "\n",
    "# print the highest 5 wtdesire outlier values\n",
    "print(wtdesire_outliers.sort_values(ascending = False).head())\n",
    "\n",
    "print('Number of \"wtdesire\" outliers:', wtdesire_outliers.shape[0])"
   ]
  },
  {
   "cell_type": "code",
   "execution_count": null,
   "metadata": {},
   "outputs": [],
   "source": [
    "import matplotlib.pyplot as plt\n",
    "%matplotlib inline \n",
    "%config InlineBackend.figure_format = 'retina'\n",
    "plt.style.use(\"ggplot\")\n",
    "plt.rcParams['figure.figsize'] = (10, 5)\n",
    "\n",
    "plt.boxplot(x = df['wtdesire'])\n",
    "plt.title(\"Boxplot of wtdesire\")\n",
    "plt.show();"
   ]
  },
  {
   "cell_type": "markdown",
   "metadata": {},
   "source": [
    "**Exercise 10:** What percent of respondents' `wdiff` is zero? Comment on the result."
   ]
  },
  {
   "cell_type": "code",
   "execution_count": null,
   "metadata": {},
   "outputs": [],
   "source": [
    "df['wdiff'] = df['wtdesire'] - df['weight']\n",
    "df.head()"
   ]
  },
  {
   "cell_type": "markdown",
   "metadata": {},
   "source": [
    "**Exercise 11:** What percent of respondents think they are overweight, that is, their `wdiff` value is less than 0? What percent of respondents think they are underweight?"
   ]
  },
  {
   "cell_type": "code",
   "execution_count": null,
   "metadata": {},
   "outputs": [],
   "source": [
    "wdiff_zero = df['wdiff'][df['wdiff'] == 0].shape[0] / df.shape[0] * 100\n",
    "\n",
    "print(f'Only {wdiff_zero}% of the respondents are happy with their current weight.')"
   ]
  },
  {
   "cell_type": "markdown",
   "metadata": {},
   "source": [
    "**Exercise 12:** Create a side-by-side boxplot to determine if men tend to view their weight differently than women.\n",
    "\n",
    "**Hint**: For this, you will need to use the [Seaborn module](https://www.featureranking.com/tutorials/python-tutorials/seaborn/#Boxplots)."
   ]
  },
  {
   "cell_type": "code",
   "execution_count": null,
   "metadata": {},
   "outputs": [],
   "source": [
    "underweight = df['wdiff'][df['wdiff'] > 0].shape[0] / df.shape[0] * 100\n",
    "overweight = df['wdiff'][df['wdiff'] < 0].shape[0] / df.shape[0] * 100\n",
    "\n",
    "print(f'Only {underweight}% of the respondents think they are underweight.')\n",
    "print(f'About {overweight}% of the respondents think they are overweight.')"
   ]
  },
  {
   "cell_type": "markdown",
   "metadata": {},
   "source": [
    "## Optional Exercises"
   ]
  },
  {
   "cell_type": "code",
   "execution_count": null,
   "metadata": {},
   "outputs": [],
   "source": [
    "import seaborn as sns\n",
    "sns.boxplot(x = df['gender'], y = df['wdiff'])\n",
    "plt.show(); "
   ]
  },
  {
   "cell_type": "markdown",
   "metadata": {},
   "source": [
    "There seems to be no significant difference between actual weight and desired weight distribution for men vs. women."
   ]
  },
  {
   "cell_type": "markdown",
   "metadata": {},
   "source": [
    "**Exercise 13:**  Generate a histogram of `age` with the bin size of 7. Comment on the skewness and modality of this histogram."
   ]
  },
  {
   "cell_type": "code",
   "execution_count": null,
   "metadata": {},
   "outputs": [],
   "source": [
    "df['age'].plot(kind = 'hist', color = 'salmon', edgecolor = 'black', \n",
    "                linewidth = 1.2, title = 'Histogram of age', bins = 7)\n",
    "plt.show(); "
   ]
  },
  {
   "cell_type": "markdown",
   "metadata": {},
   "source": [
    "This histogram suggests a unimodal, right-skewed distribution for age."
   ]
  },
  {
   "cell_type": "markdown",
   "metadata": {},
   "source": [
    "**Exercise 14:** Make a scatterplot of weight versus desired weight. Set the fill color as blue and alpha level as 0.3. Describe the relationship between these two variables.\n",
    "\n",
    "**Bonus**: Also fit a red line with a slope of 1 and an intercept value of 0. See [this](https://www.featureranking.com/tutorials/python-tutorials/matplotlib/#Lines) for an example of a line fit. "
   ]
  },
  {
   "cell_type": "code",
   "execution_count": null,
   "metadata": {
    "scrolled": true
   },
   "outputs": [],
   "source": [
    "def plot_line(axis, slope, intercept, **kargs):\n",
    "    xmin, xmax = axis.get_xlim()\n",
    "    plt.plot([xmin, xmax], [xmin*slope + intercept, xmax*slope + intercept], **kargs)\n",
    "    \n",
    "x = df['weight']\n",
    "y = df['wtdesire']\n",
    "plt.scatter(x, y,  c = 'blue', alpha = 0.3)\n",
    "plot_line(axis = plt.gca(), slope = 1, intercept = 0, color = \"red\")\n",
    "plt.xlabel('Actual Weight')\n",
    "plt.ylabel('Desired Weight')\n",
    "plt.title('Actual vs. Desired Weight')\n",
    "plt.show();"
   ]
  },
  {
   "cell_type": "markdown",
   "metadata": {},
   "source": [
    "As the weight increases, the desired weight also increases,\n",
    "but not as much the weight itself. There are more respondents\n",
    "who think they are overweight compared to underweight\n",
    "(more points under the line compared to over the line)."
   ]
  }
 ],
 "metadata": {
  "hide_input": false,
  "kernelspec": {
   "display_name": "Python 3 (ipykernel)",
   "language": "python",
   "name": "python3"
  },
  "language_info": {
   "codemirror_mode": {
    "name": "ipython",
    "version": 3
   },
   "file_extension": ".py",
   "mimetype": "text/x-python",
   "name": "python",
   "nbconvert_exporter": "python",
   "pygments_lexer": "ipython3",
   "version": "3.9.7"
  }
 },
 "nbformat": 4,
 "nbformat_minor": 4
}
