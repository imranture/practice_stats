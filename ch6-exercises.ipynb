{
 "cells": [
  {
   "cell_type": "markdown",
   "metadata": {},
   "source": [
    "# Chapter 6: Practice Exercises with Solutions\n",
    "---"
   ]
  },
  {
   "cell_type": "markdown",
   "metadata": {},
   "source": [
    "**Exercise 1:** A local news outlet reported that 46% of 600 randomly sampled Kansas residents planned to set off fireworks on New Year's Eve. Determine the margin of error for the 46% point estimate using a 95% confidence level."
   ]
  },
  {
   "cell_type": "markdown",
   "metadata": {},
   "source": [
    "---\n",
    "**Exercise 2:** A market researcher wants to evaluate car insurance savings at a competing company. Based on past studies he is assuming that the standard deviation of savings is AUD 100. He wants to collect data such that he can get a margin of error of no more than AUD 10 at a 95% confidence level. How large of a sample should he collect?"
   ]
  },
  {
   "cell_type": "markdown",
   "metadata": {},
   "source": [
    "---\n",
    "**Exercise 3:** Some people claim that they can tell the difference between a diet soda and a regular soda in the first sip. A researcher wanting to test this claim randomly sampled 80 such people. He then filled 80 plain white cups with soda, half diet and half regular through random assignment, and asked each person to take one sip from their cup and identify the soda as diet or regular. 53 participants correctly identified the soda. Construct a hypothesis test using $\\alpha = 0.05$."
   ]
  },
  {
   "cell_type": "markdown",
   "metadata": {},
   "source": [
    "---\n",
    "**Exercise 4:** According to a report on sleep deprivation by the Centers for Disease Control and Prevention, the proportion of California residents who reported insufficient rest or sleep during each of the preceding 30 days is 8.0%, while this proportion is 8.8% for Oregon residents. These data are based on simple random samples of 11,545 California and 4,691 Oregon residents. Calculate a 95% confidence interval for the difference between the proportions of California and Oregon residents who are sleep deprived and interpret it in context of the data."
   ]
  },
  {
   "cell_type": "markdown",
   "metadata": {},
   "source": [
    "---\n",
    "**Exercise 5:** A survey asked 827 randomly sampled Melbourne and Sydney residents \"What is your favorite sport? Football, cricket or basketball?\" Below is the distribution of responses, separated based on whether the respondent is a Melbourne or Sydney resident.\n",
    "\n",
    "|-| Melbourne | Sydney   | \n",
    "|---                 |---   |---      |\n",
    "| Football | 154       | 132     |\n",
    "| Cricket | 180      | 126     |\n",
    "| Basketball | 104 | 131     | \n",
    "| TOTAL | 438 | 389     | \n",
    "\n",
    "\n",
    "A) What percent of Melbourne residents and what percent of Sydney residents in this sample report that their favorite sport is basketball?\n",
    "\n",
    "B) Conduct a hypothesis test to determine if the data provide strong evidence that the proportion of Melbourne residents who\n",
    "reported their favorite sport as basketball is different than that of Sydney residents."
   ]
  },
  {
   "cell_type": "markdown",
   "metadata": {},
   "source": [
    "---\n",
    "*Solutions available [here](https://nbviewer.org/github/imranture/practice_stats/blob/main/ch6-exercises_with_solutions.ipynb).*"
   ]
  }
 ],
 "metadata": {
  "hide_input": false,
  "kernelspec": {
   "display_name": "Python 3 (ipykernel)",
   "language": "python",
   "name": "python3"
  },
  "language_info": {
   "codemirror_mode": {
    "name": "ipython",
    "version": 3
   },
   "file_extension": ".py",
   "mimetype": "text/x-python",
   "name": "python",
   "nbconvert_exporter": "python",
   "pygments_lexer": "ipython3",
   "version": "3.10.0"
  }
 },
 "nbformat": 4,
 "nbformat_minor": 4
}
