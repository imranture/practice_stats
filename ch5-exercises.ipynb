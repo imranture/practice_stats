{
 "cells": [
  {
   "cell_type": "markdown",
   "metadata": {},
   "source": [
    "# Chapter 5: Practice Exercises"
   ]
  },
  {
   "cell_type": "markdown",
   "metadata": {},
   "source": [
    "**Exercise 1:** As part of a quality control process for computer chips, an engineer randomly samples 232 chips at a factory during a week of production to test the current rate of chips with severe defects. She finds that 34 of the chips are defective.\n",
    "\n",
    "A) What is the population under consideration in this study?\n",
    "\n",
    "B) What parameter is being estimated?\n",
    "\n",
    "C) What is the point estimate for the parameter $\\hat{p}$?\n",
    "\n",
    "D) Compute the standard error to measure the uncertainty in the point estimate."
   ]
  },
  {
   "cell_type": "markdown",
   "metadata": {},
   "source": [
    "**Exercise 2:** (fictional) Of all the first year university students, 18% made the Dean's list in the current year. As part of a class project, students randomly sample 40 students and check if those students made the list. They repeat this 1,000 times and build a distribution of sample proportions.\n",
    "\n",
    "A) What is this distribution called?\n",
    "\n",
    "B) Calculate the variability of this distribution."
   ]
  },
  {
   "cell_type": "markdown",
   "metadata": {},
   "source": [
    "**Exercise 3:** A website is trying to increase registration for first-time visitors, exposing 1% of these visitors to a new site design. Of 782 randomly sampled visitors over a month who saw the new design, 64 of them registered.\n",
    "\n",
    "A) Check any conditions required for constructing a confidence interval.\n",
    "\n",
    "B) Compute the standard error.\n",
    "\n",
    "C) Construct and interpret a 90% confidence interval for the fraction of first-time visitors of the site who would register under the new design (assuming stable behaviors by new visitors over time).\n",
    "\n",
    "D) This time, construct a 95% confidence interval. Is this interval wider or narrower? Why?"
   ]
  },
  {
   "cell_type": "markdown",
   "metadata": {},
   "source": [
    "**Exercise 4:** (fictional) 400 students were randomly sampled from RMIT and 220 of them said they go to the gym at least once a week. Using the Prepare Check Calculate Conclude framework, conduct a hypothesis test to check whether this represents a statistically significant difference from 50%:\n",
    "\n",
    "A) Using a significance level of 1%.\n",
    "\n",
    "B) Using a significance level of 5%.\n",
    "\n",
    "C) Explain how and why the conclusion changes when the significance level changes."
   ]
  }
 ],
 "metadata": {
  "hide_input": false,
  "kernelspec": {
   "display_name": "Python 3 (ipykernel)",
   "language": "python",
   "name": "python3"
  },
  "language_info": {
   "codemirror_mode": {
    "name": "ipython",
    "version": 3
   },
   "file_extension": ".py",
   "mimetype": "text/x-python",
   "name": "python",
   "nbconvert_exporter": "python",
   "pygments_lexer": "ipython3",
   "version": "3.9.7"
  }
 },
 "nbformat": 4,
 "nbformat_minor": 4
}
