{
 "cells": [
  {
   "cell_type": "markdown",
   "metadata": {},
   "source": [
    "# Chapter 4 - Binomial & Poisson Distributions: Practice Exercises with Solutions\n",
    "---"
   ]
  },
  {
   "cell_type": "markdown",
   "metadata": {},
   "source": [
    "**Exercise 1:** Suppose in a school it is found that 35% of adults do not work at all while on summer vacation. In a random sample of 10 adults, let $X$ represent the number who do not work during summer vacation.\n",
    "\n",
    "**Hint:** For part C and D, you may use `comb` function from [`scipy.special`](https://docs.scipy.org/doc/scipy/reference/generated/scipy.special.comb.html#scipy.special.comb) to compute **\"n choose k\"**.\n",
    "\n",
    "A) For this experiment, define the event that represents a \"success\".\n",
    "\n",
    "B) What is the value of $p$ for this binomial experiment. \n",
    "\n",
    "C) Find $P(X = 3)$. \n",
    "\n",
    "D) Find the probability that 2 or fewer of the 10 adults do not work during summer vacation."
   ]
  },
  {
   "cell_type": "code",
   "execution_count": 1,
   "metadata": {},
   "outputs": [
    {
     "name": "stdout",
     "output_type": "stream",
     "text": [
      "A) A success would be a adult who does not work at all while on summer vacation.\n",
      "B) p = 0.35\n",
      "C) P(X = 3)= 0.252\n",
      "D) P(X <= 2)= 0.262\n"
     ]
    }
   ],
   "source": [
    "from scipy.special import comb\n",
    "\n",
    "print('A) A success would be a adult who does not work at all while on summer vacation.')\n",
    "p = 0.35\n",
    "print('B) p =', p)\n",
    "\n",
    "print('C) P(X = 3)=', round(comb(10, 3)*(p**3)*((1-p)**7), 3))\n",
    "\n",
    "print('D) P(X <= 2)=', round(comb(10, 0)*(p**0)*((1-p)**10) + comb(10, 1)*(p**1)*((1-p)**9) \n",
    "      + comb(10, 2)*(p**2)*((1-p)**8), 3))"
   ]
  },
  {
   "cell_type": "markdown",
   "metadata": {},
   "source": [
    "---\n",
    "**Exercise 2:** Data collected in United States suggests that 69.7% of 18-20 year olds consumed alcoholic beverages in any given year. Let $X$ represent the number of 18-20 year olds who have consumed alcohol beverages.\n",
    "\n",
    "A) Suppose a random sample of ten 18-20 year olds is taken. Is the use of the binomial distribution appropriate for calculating the probability that exactly six consumed alcoholic beverages? Explain.\n",
    "\n",
    "B) Calculate the probability that exactly 6 out of 10 randomly sampled 18-20 year olds consumed an alcoholic beverage.\n",
    "\n",
    "C) What is the probability that exactly four out of ten 18-20 year olds have *not* consumed an alcoholic beverage?\n",
    "\n",
    "D) What is the probability that at most 2 out of 5 randomly sampled 18-20 year olds have consumed alcoholic beverages?\n",
    "\n",
    "E) What is the probability that at least 1 out of 5 randomly sampled 18-20 year olds have consumed alcoholic beverages?"
   ]
  },
  {
   "cell_type": "code",
   "execution_count": 2,
   "metadata": {},
   "outputs": [
    {
     "name": "stdout",
     "output_type": "stream",
     "text": [
      "A) In order to determine if we can we use the binomial distribution to calculate the\n",
      "   probability of finding exactly six people out of a random sample of ten 18-20 year olds\n",
      "   who consumed alcoholic beverages, we need to check if the binomial conditions are met:\n",
      "   \n",
      "   1. Independent trials: In a random sample, whether or not one 18-20 year old has\n",
      "      consumed alcohol does not depend on whether or not another one has.\n",
      "   2. Fixed number of trials: n = 10.\n",
      "   3. Only two outcomes at each trial: Consumed or did not consume alcohol.\n",
      "   4. Probability of a success is the same for each trial: p = 0.697.\n",
      "\n",
      "B) P(X = 6)= 0.203\n",
      "C) P(X = 4) = P(X = 6) = 0.203\n",
      "D) P(at most 2) = P(X <= 2) = 0.167\n",
      "E) P(at least 1) = P(X >= 1) = 1 - P(X = 0) = 0.997\n"
     ]
    }
   ],
   "source": [
    "from scipy.special import comb\n",
    "\n",
    "print('''A) In order to determine if we can we use the binomial distribution to calculate the\n",
    "   probability of finding exactly six people out of a random sample of ten 18-20 year olds\n",
    "   who consumed alcoholic beverages, we need to check if the binomial conditions are met:\n",
    "   \n",
    "   1. Independent trials: In a random sample, whether or not one 18-20 year old has\n",
    "      consumed alcohol does not depend on whether or not another one has.\n",
    "   2. Fixed number of trials: n = 10.\n",
    "   3. Only two outcomes at each trial: Consumed or did not consume alcohol.\n",
    "   4. Probability of a success is the same for each trial: p = 0.697.\n",
    "''')\n",
    "\n",
    "prob_exactly6 = round(comb(10, 6)*(0.697**6)*((1-0.697)**4), 3)\n",
    "print(f'B) P(X = 6)= {prob_exactly6}')\n",
    "\n",
    "print(f'C) P(X = 4) = P(X = 6) = {prob_exactly6}')\n",
    "\n",
    "prob_atmost2 = round(comb(5, 0)*(0.697**0)*((1-0.697)**5) + comb(5, 1)*(0.697**1)*((1-0.697)**4)\n",
    "                     + comb(5, 2)*(0.697**2)*((1-0.697)**3), 3)\n",
    "print(f'D) P(at most 2) = P(X <= 2) = {prob_atmost2}')\n",
    "\n",
    "prob_atleast1 = round(1 - comb(5, 0)*(0.697**0)*((1-0.697)**5), 3)\n",
    "print(f'E) P(at least 1) = P(X >= 1) = 1 - P(X = 0) = {prob_atleast1}')"
   ]
  },
  {
   "cell_type": "markdown",
   "metadata": {},
   "source": [
    "---\n",
    "**Exercise 3:** A grocery store serves an average of 85 customers per hour during the\n",
    "evening.\n",
    "\n",
    "**Hint:** For part D, you may use `poisson.pmf` function from [`scipy.stats`](https://docs.scipy.org/doc/scipy/reference/generated/scipy.stats.poisson.html).\n",
    "\n",
    "A) Which distribution have we studied that is most appropriate for calculating the probability of a given\n",
    "number of customers arriving within one hour during this time of day?\n",
    "\n",
    "B) What are the mean and the standard deviation of the number of customers this grocery store serves in\n",
    "one hour during this time of day?\n",
    "\n",
    "C) Would it be considered unusually low if only 68 customers showed up to this grocery store in one hour\n",
    "during this time of day?\n",
    "\n",
    "D) Calculate the probability that this grocery store serves 80 customers in one hour during this time of day."
   ]
  },
  {
   "cell_type": "code",
   "execution_count": 3,
   "metadata": {},
   "outputs": [
    {
     "name": "stdout",
     "output_type": "stream",
     "text": [
      "A) Poisson with lambda = 85. We may have some concerns about observations being independent \n",
      "   if people commonly come to the grocery store in pairs. Regardless, the Poisson distribution \n",
      "   will provide a distribution that will be a reasonable first approximation.\n",
      "\n",
      "B) Mean = 85, standard deviation = 9.22.\n",
      "\n",
      "C) -1.84. Since 68 customers is within 2 standard deviations of the mean, \n",
      "   this would not be considered unusual.\n",
      "   \n",
      "D) P(X = 80) = 0.04\n"
     ]
    }
   ],
   "source": [
    "import numpy as np\n",
    "from scipy.stats import poisson\n",
    "\n",
    "print('''A) Poisson with lambda = 85. We may have some concerns about observations being independent \n",
    "   if people commonly come to the grocery store in pairs. Regardless, the Poisson distribution \n",
    "   will provide a distribution that will be a reasonable first approximation.\n",
    "''')\n",
    "\n",
    "lambda_value = 85\n",
    "sd = np.sqrt(lambda_value)\n",
    "print(f'''B) Mean = {lambda_value}, standard deviation = {round(sd, 2)}.\n",
    "''')\n",
    "\n",
    "z_68 = (68 - lambda_value)/sd\n",
    "print(f'''C) {round(z_68, 2)}. Since 68 customers is within 2 standard deviations of the mean, \n",
    "   this would not be considered unusual.\n",
    "   ''')\n",
    "\n",
    "prob_80 = poisson.pmf(80, lambda_value)\n",
    "print(f'D) P(X = 80) = {round(prob_80, 2)}')"
   ]
  },
  {
   "cell_type": "markdown",
   "metadata": {},
   "source": [
    "---\n",
    "**Exercise 4:** For Monday through Thursday when there isn't a holiday, the average number of vehicles that visit a particular retailer between 2pm and 3pm each afternoon is 6.5, and the number of cars that show up on any given day follows a Poisson distribution.\n",
    "\n",
    "A) What is the probability that exactly 5 cars will show up next Monday?\n",
    "\n",
    "B) What is the probability that 0, 1, or 2 cars will show up next Monday between 2pm and 3pm?"
   ]
  },
  {
   "cell_type": "code",
   "execution_count": 4,
   "metadata": {},
   "outputs": [
    {
     "name": "stdout",
     "output_type": "stream",
     "text": [
      "A) P(X = 5) = 0.145\n",
      "B) P(X = 0) + P(X = 1) + P(X = 2) = 0.043\n"
     ]
    }
   ],
   "source": [
    "from scipy.stats import poisson\n",
    "\n",
    "print('A) P(X = 5) =', '%.3f' % (poisson.pmf(5, 6.5)))\n",
    "print('B) P(X = 0) + P(X = 1) + P(X = 2) =', '%.3f' % (poisson.pmf(0, 6.5) + poisson.pmf(1, 6.5) + poisson.pmf(2, 6.5)))"
   ]
  }
 ],
 "metadata": {
  "hide_input": false,
  "kernelspec": {
   "display_name": "Python 3 (ipykernel)",
   "language": "python",
   "name": "python3"
  },
  "language_info": {
   "codemirror_mode": {
    "name": "ipython",
    "version": 3
   },
   "file_extension": ".py",
   "mimetype": "text/x-python",
   "name": "python",
   "nbconvert_exporter": "python",
   "pygments_lexer": "ipython3",
   "version": "3.10.0"
  }
 },
 "nbformat": 4,
 "nbformat_minor": 4
}
