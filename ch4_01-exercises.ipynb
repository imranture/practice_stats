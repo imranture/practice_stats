{
 "cells": [
  {
   "cell_type": "markdown",
   "metadata": {
    "tags": []
   },
   "source": [
    "# Chapter 4 - Normal distribution: Practice Exercises"
   ]
  },
  {
   "cell_type": "markdown",
   "metadata": {},
   "source": [
    "**Exercise 1:** Jane and Mark both run in the 1000 metres, a popular track race in the olympics. Jane competed in the Women, Ages 20 - 24 group, while Mark competed in the Men, Ages 25 - 29 group. Jane completed the race in 246 seconds, while Mark completed the race in 221 seconds.\n",
    "\n",
    "Obviously Mark finished faster, but they are curious about how they did within their respective groups. Here is some information on the performance of their groups:\n",
    "- The finishing times of the Women, Ages 20 - 24 group has a mean of 224 seconds with a standard deviation of 46 seconds.\n",
    "- The finishing times of the Men, Ages 25 - 29 group has a mean of 181 seconds with a standard deviation of 35 seconds.\n",
    "- The distributions of finishing times for both groups are nearly normal. \n",
    "\n",
    "Keep in mind that a better performance corresponds to a faster finish.\n",
    "\n",
    "A) What are the Z-scores for Jane's and Mark's finishing times? What do these Z-scores tell you?\n",
    "\n",
    "B) Did Jane or Mark rank better in their respective groups? Explain your reasoning.\n",
    "\n",
    "C) What percent of the runners did Mark finish faster than in his group?\n",
    "\n",
    "D) What percent of the runners did Jane finish faster than in her group?\n",
    "\n",
    "**Hint:** Use `norm` function from [`scipy.stats`](https://docs.scipy.org/doc/scipy/reference/generated/scipy.stats.norm.html?highlight=norm)."
   ]
  },
  {
   "cell_type": "markdown",
   "metadata": {},
   "source": [
    "**Exercise 2:** Suppose weights of airline passengers' checked baggage follow a nearly normal distribution with mean 20 kg and standard deviation 1.45 kg. Most airlines charge a fee for baggage that weigh in excess of 22 kg. Determine what percent of airline passengers incur this fee."
   ]
  },
  {
   "cell_type": "markdown",
   "metadata": {},
   "source": [
    "**Exercise 3:** Suppose the distribution of auto insurance premiums for residents of California is approximately normal with a mean of USD 1,650 and a standard deviation of USD 223.\n",
    "\n",
    "A) What is the Z-score that corresponds to the top 25% of the standard normal\n",
    "distribution?\n",
    "\n",
    "B) What is the cutoff point for the top 25% of Californian residents?"
   ]
  },
  {
   "cell_type": "markdown",
   "metadata": {},
   "source": [
    "**Exercise 4:**  (fictitious) Cholesterol levels for men aged 55 to 64 are normally distributed with mean 222 milligrams per deciliter (mg/dl) and standard deviation 37 mg/dL. A cholesterol level above 240 is a health concern. Find the proportion of the men population aged 55 to 64 with a cholesterol level above 240."
   ]
  },
  {
   "cell_type": "markdown",
   "metadata": {},
   "source": [
    "___\n",
    "For **Exercise 5** and **Exercise 6**, you will be working with body measurements of 507 physically active individuals. The data set contains measurements from 260 women and 247 men. Click [here](https://www.openintro.org/stat/data/bdims.csv) to download the dataset and read it as `bdims`. You can visit [this page](https://www.openintro.org/data/index.php?data=bdims) to view the details of this data set.\n",
    "___"
   ]
  },
  {
   "cell_type": "markdown",
   "metadata": {},
   "source": [
    "**Exercise 5:** Make a histogram of women's heights and a histogram of men's heights. How would you compare the various aspects of the two distributions?\n",
    "\n",
    "**Hint:** `sex = 0` means female, otherwise male."
   ]
  },
  {
   "cell_type": "markdown",
   "metadata": {},
   "source": [
    "**Exercise 6:** Assuming that men's heights are normally distributed, what is the probability that a randomly chosen young adult man is taller than 190 cm?"
   ]
  }
 ],
 "metadata": {
  "hide_input": false,
  "kernelspec": {
   "display_name": "Python 3 (ipykernel)",
   "language": "python",
   "name": "python3"
  },
  "language_info": {
   "codemirror_mode": {
    "name": "ipython",
    "version": 3
   },
   "file_extension": ".py",
   "mimetype": "text/x-python",
   "name": "python",
   "nbconvert_exporter": "python",
   "pygments_lexer": "ipython3",
   "version": "3.9.7"
  }
 },
 "nbformat": 4,
 "nbformat_minor": 4
}
