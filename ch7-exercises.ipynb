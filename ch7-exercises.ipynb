{
 "cells": [
  {
   "cell_type": "markdown",
   "metadata": {},
   "source": [
    "# Chapter: Practice Exercises"
   ]
  },
  {
   "cell_type": "markdown",
   "metadata": {},
   "source": [
    "**Exercise 1:** A 95% confidence interval for a population mean is given as (18.985, 21.015). This confidence interval is based on a simple random sample of 36 observations. Calculate the sample mean and standard deviation. Assume that all conditions necessary for inference are satisfied. Use the t-distribution in any calculations."
   ]
  },
  {
   "cell_type": "markdown",
   "metadata": {},
   "source": [
    "**Exercise 2:** You are given the following hypotheses:\n",
    "\n",
    "$Ho$: $u$ = 60\n",
    "\n",
    "$Ha$: $u$ != 60\n",
    "\n",
    "We know that the sample standard deviation is 8 and the sample size is 20. For what sample mean would\n",
    "the p-value be equal to 0.05? Assume that all conditions necessary for inference are satisfied."
   ]
  },
  {
   "cell_type": "markdown",
   "metadata": {},
   "source": [
    "**Exercise 3:** Georgianna claims that in a small city renowned for its music school, the average child takes less than 5 years of piano lessons. We have a random sample of 20 children from the city, with a mean of 4.6 years of piano lessons and a standard deviation of 2.2 years. Evaluate Georgianna's claim using a hypothesis test."
   ]
  },
  {
   "cell_type": "markdown",
   "metadata": {},
   "source": [
    "**Exercise 4:** Prices of diamonds are determined by what is known as the 4 Cs: cut, clarity, color, and carat weight. The prices of diamonds go up as the carat weight increases, but the increase is not smooth. See the table below for summary statistics, and then construct a 95% confidence interval for the average difference between the standardized prices of 0.99 and 1 carat diamonds. You may assume the conditions for inference are met.\n",
    "\n",
    "\n",
    "|Diamonds | Mean | SD   | n |\n",
    "|------|------|------|------    |\n",
    "|   0.99 carats  | 44.51   | 13.32    | 23       |\n",
    "|   1 carats  | 56.81    | 16.13 | 23   |"
   ]
  },
  {
   "cell_type": "markdown",
   "metadata": {},
   "source": [
    "**Exercise 5:** In each of the following scenarios, determine if the data are paired.\n",
    "\n",
    "1. We would like to know if Apple's stock and American Airlines' stock have similar rates of return. To find out, we take a random sample of 50 days, and record Apple's and American' stock on those same days.\n",
    "\n",
    "**Answer**: Paired, on the same day the stock prices may be dependent on external factors that affect the price of both stocks.\n",
    "\n",
    "2. We randomly sample 50 items from Big W stores and note the price for each. Then we visit Kmart and collect the price for each of those same 50 items.\n",
    "\n",
    "**Answer**: Paired, the prices are for the same items.\n",
    "\n",
    "3. A research team would like to determine whether there is a difference in average PTE Academic scores for students at one university versus another university in the city. To check, they take a simple random sample of 100 students from each university.\n",
    "\n",
    "**Answer**: Not paired, these are two independent random samples, individual students are not matched."
   ]
  }
 ],
 "metadata": {
  "hide_input": false,
  "kernelspec": {
   "display_name": "Python 3 (ipykernel)",
   "language": "python",
   "name": "python3"
  },
  "language_info": {
   "codemirror_mode": {
    "name": "ipython",
    "version": 3
   },
   "file_extension": ".py",
   "mimetype": "text/x-python",
   "name": "python",
   "nbconvert_exporter": "python",
   "pygments_lexer": "ipython3",
   "version": "3.9.7"
  }
 },
 "nbformat": 4,
 "nbformat_minor": 4
}
