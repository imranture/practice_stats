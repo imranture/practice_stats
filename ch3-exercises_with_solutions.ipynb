{
 "cells": [
  {
   "cell_type": "markdown",
   "metadata": {},
   "source": [
    "# Chapter 3: Practice Exercises with Solutions"
   ]
  },
  {
   "cell_type": "markdown",
   "metadata": {},
   "source": [
    "**Exercise 1:** If you flip a fair coin 5 times, what is the probability of\n",
    "\n",
    "A) Getting all heads?\n",
    "\n",
    "B) Getting at least one head?"
   ]
  },
  {
   "cell_type": "code",
   "execution_count": 1,
   "metadata": {},
   "outputs": [
    {
     "name": "stdout",
     "output_type": "stream",
     "text": [
      "A) P(all heads) = 0.031\n",
      "B) P(at least one head) = 1 - P(no heads) = 0.969\n"
     ]
    }
   ],
   "source": [
    "import numpy as np\n",
    "\n",
    "prob_all_heads = (1/2)**5\n",
    "print('A) P(all heads) =', round(prob_all_heads, 3))\n",
    "\n",
    "prob_atleast_one_head = 1 - (1/2)**5\n",
    "print('B) P(at least one head) = 1 - P(no heads) =', round(prob_atleast_one_head, 3))"
   ]
  },
  {
   "cell_type": "markdown",
   "metadata": {},
   "source": [
    "**Exercise 2:** If you roll a pair of fair dice, what is the probability of\n",
    "\n",
    "A) Getting a sum of 1?\n",
    "\n",
    "B) Getting a sum of 5?\n",
    "\n",
    "C) Getting a sum of 12?"
   ]
  },
  {
   "cell_type": "code",
   "execution_count": 2,
   "metadata": {},
   "outputs": [
    {
     "name": "stdout",
     "output_type": "stream",
     "text": [
      "A) P(sum of 1) = 0\n",
      "B) P(sum of 5) = P(1,4) + P(2,3) + P(3,2) + P(4,1) = 0.111\n",
      "C) P(sum of 12) = P(6,6) = 0.028\n"
     ]
    }
   ],
   "source": [
    "print('A) P(sum of 1) = 0')\n",
    "\n",
    "prob_sum_of_5 = 1/6 * 1/6 * 4\n",
    "print('B) P(sum of 5) = P(1,4) + P(2,3) + P(3,2) + P(4,1) =', round(prob_sum_of_5, 3))\n",
    "\n",
    "prob_sum_of_12 = 1/6 * 1/6\n",
    "print('C) P(sum of 12) = P(6,6) =', round(prob_sum_of_12, 3))"
   ]
  },
  {
   "cell_type": "markdown",
   "metadata": {},
   "source": [
    "**Exercise 3:** In a multiple choice quiz there are 5 questions and 3 choices for each question (a,b,c). Jessy did not study for the test at all and she decided to randomly guess the answers. What is the probability that\n",
    "\n",
    "A) the first question she gets right is the 3rd question?\n",
    "\n",
    "B) she get all the questions right?\n",
    "\n",
    "C) she gets at least one question right?"
   ]
  },
  {
   "cell_type": "code",
   "execution_count": 3,
   "metadata": {},
   "outputs": [
    {
     "name": "stdout",
     "output_type": "stream",
     "text": [
      "A) P(wrong, wrong, right) = 0.148\n",
      "B) P(right, right, right, right, right) = 0.004\n",
      "C) P(at least one right) = 1 - P(none right) = 0.868\n"
     ]
    }
   ],
   "source": [
    "prob_getting_third_right = 2/3*2/3*1/3\n",
    "print('A) P(wrong, wrong, right) =', round(prob_getting_third_right, 3))\n",
    "\n",
    "prob_all_right = (1/3)**5\n",
    "print('B) P(right, right, right, right, right) =', round(prob_all_right, 3))\n",
    "\n",
    "prob_atleast_one_right = 1 - (2/3)**5\n",
    "print('C) P(at least one right) = 1 - P(none right) =', round(prob_atleast_one_right, 3))"
   ]
  },
  {
   "cell_type": "markdown",
   "metadata": {},
   "source": [
    "**Exercise 4:** In a survey, grade 12 students were asked on their likeability towards quantum computing (QC) & blockchain technology (BT). 70% of the respondents said they like QC, 80% said they like BT while 68% said they like both. Given that a randomly sampled student likes QC, what's the probability that he also likes BT?"
   ]
  },
  {
   "cell_type": "code",
   "execution_count": 4,
   "metadata": {},
   "outputs": [
    {
     "name": "stdout",
     "output_type": "stream",
     "text": [
      "We need to find the probability of liking BT given that the student likes QC.\n",
      "P(BT|QC) = P(QC and BT)/P(QC) = 0.68/0.70\n",
      "The probability that this randomly sampled student also likes BT is 0.97\n"
     ]
    }
   ],
   "source": [
    "print('We need to find the probability of liking BT given that the student likes QC.')\n",
    "print('P(BT|QC) = P(QC and BT)/P(QC) = 0.68/0.70')\n",
    "print('The probability that this randomly sampled student also likes BT is', round(0.68/0.70, 2))"
   ]
  },
  {
   "cell_type": "markdown",
   "metadata": {},
   "source": [
    "**Exercise 5:** Researchers collected data on colors of 210 cars in Melbourne. The table below summarizes the results. \n",
    "\n",
    "|Cars     | Blue | Red   | Black | Total  |\n",
    "|---      |---   |---    |---    | ---    |\n",
    "|Brand A  | 81   | 23    | 13    | 117    |\n",
    "|Brand B  | 19   | 23    | 14    | 56     |\n",
    "|Brand C  | 11   | 10    | 16    | 37     |\n",
    "|Total    | 111  | 56    | 43    | 210    |\n",
    "\n",
    "A) What is the probability that a randomly chosen car is a Brand A and has the color of Blue?\n",
    "\n",
    "B) What is the probability that a randomly chosen car is a Brand A or has the color of Blue?\n",
    "\n",
    "C) What is the probability that a randomly chosen car is a Blue Brand A car, Red Brand B car or Black Brand C car?\n",
    "\n",
    "D) What is the probability that a randomly chosen Brand A car has the color of Blue?\n",
    "\n",
    "E) What is the probability that a randomly chosen Blue car is a Brand A car?\n",
    "\n",
    "F) What is the probability that a randomly chosen Blue car is not a Brand A?"
   ]
  },
  {
   "cell_type": "code",
   "execution_count": 5,
   "metadata": {},
   "outputs": [
    {
     "name": "stdout",
     "output_type": "stream",
     "text": [
      "A) P(Brand A and Blue) =  0.39\n",
      "B) P(Brand A or Blue) = 0.7\n",
      "C) P(Brand A and Blue) + P(Brand B and Red) + P(Brand C and Black) \n",
      "   = 0.57\n",
      "D) P(Blue | Brand A) = 0.69\n",
      "E) P(Brand A | Blue) = 0.73\n",
      "F) P(not Brand A | Blue) \n",
      "   = P(Brand B | Blue) + P(Brand C | Blue) =  0.27\n"
     ]
    }
   ],
   "source": [
    "prob_A = 81/210\n",
    "print('A) P(Brand A and Blue) = ', round(prob_A, 2))\n",
    "\n",
    "prob_B = (117+111-81)/210\n",
    "print('B) P(Brand A or Blue) =', round(prob_B, 2))\n",
    "\n",
    "prob_C = (81+23+16)/210\n",
    "print('''C) P(Brand A and Blue) + P(Brand B and Red) + P(Brand C and Black) \n",
    "   =''', round(prob_C, 2))\n",
    "\n",
    "prob_D = 81/117\n",
    "print('D) P(Blue | Brand A) =', round(prob_D, 2))\n",
    "\n",
    "prob_E = 81/111\n",
    "print('E) P(Brand A | Blue) =', round(prob_E, 2))\n",
    "\n",
    "prob_F =  (19+11)/111\n",
    "print('''F) P(not Brand A | Blue) \n",
    "   = P(Brand B | Blue) + P(Brand C | Blue) = ''', round(prob_F, 2))"
   ]
  },
  {
   "cell_type": "markdown",
   "metadata": {},
   "source": [
    "**Exercise 6:** A portfolio's value increases by 18% during a financial boom and by 9% during normal times. It decreases by 12% during a recession. What is the expected return on this portfolio if each scenario is equally likely?"
   ]
  },
  {
   "cell_type": "code",
   "execution_count": 6,
   "metadata": {
    "scrolled": true
   },
   "outputs": [
    {
     "name": "stdout",
     "output_type": "stream",
     "text": [
      "Let the portfolio's return percentage be the random variable X.\n",
      "We need to find the expected value (mean) of X, E(X) = Sum(X*P(X))\n",
      "The portfolio's expected return = 0.05\n",
      "\n",
      "This indicates that this portfolio yields \n",
      "5% increase in value on the average.\n",
      "\n"
     ]
    }
   ],
   "source": [
    "print(\"Let the portfolio's return percentage be the random variable X.\")\n",
    "print('We need to find the expected value (mean) of X, E(X) = Sum(X*P(X))')\n",
    "values = np.array([0.18, 0.09, -0.12])\n",
    "probs = np.array([1/3, 1/3, 1/3])\n",
    "mean_X = np.sum(values * probs)\n",
    "print(\"The portfolio's expected return =\", round(mean_X, 5))\n",
    "print('''\n",
    "This indicates that this portfolio yields \n",
    "5% increase in value on the average.\n",
    "''')"
   ]
  },
  {
   "cell_type": "markdown",
   "metadata": {},
   "source": [
    "**Exercise 7:** Ice cream usually comes in 48  ounces, and ice cream scoops hold about 2 ounces. However, there is some variability in the amount of ice cream in a box as well as the amount of ice cream scooped out. The amount of ice cream in the box is denoted by the random variable X and the amount scooped out as Y. Suppose these random variables have the following means, standard deviations, and variances:\n",
    "\n",
    "|R.V.  | Mean | SD   | Variance |\n",
    "|------|------|------|------    |\n",
    "|   X  | 48   | 1    | 1        |\n",
    "|   Y  | 2    | 0.25 | 0.0625   |\n",
    "\n",
    "A) An entire box of ice cream, plus 3 scoops from a second box is served at a party. How much ice cream do you expect to have been served at this party? What is the standard deviation of the amount of ice cream served?\n",
    "\n",
    "B) How much ice cream would you expect to be left in the box after scooping out one scoop of ice cream? That is, find the expected value of X - Y. What is the standard deviation of the amount left in the box?\n",
    "\n",
    "C) Using the context of this exercise, explain why we add variances when we subtract one random variable from another."
   ]
  },
  {
   "cell_type": "code",
   "execution_count": 7,
   "metadata": {},
   "outputs": [
    {
     "name": "stdout",
     "output_type": "stream",
     "text": [
      "A) E(X + Y + Y + Y) = E(X) + 3*E(Y) = 54\n",
      "   V(X + Y + Y + Y) = V(X) + 3*V(Y) = 1.1875\n",
      "   Std. dev. = 1.0897\n",
      "\n",
      "B) E(X-Y) = E(X) - E(Y) = 46\n",
      "   V(X-Y) = V(X) + V(Y) = 1.0625\n",
      "   Std. dev. = 1.0308\n",
      "\n",
      "C) Initially we do not know exactly how much ice cream is in the box. \n",
      "   Then we scoop out an unknown amount. \n",
      "   We should now be even more unsure about the amount of ice cream \n",
      "   that is left in the box.\n",
      "   \n",
      "   Also, during the lecture, we talked about why mathematically the \n",
      "   variance of both the sum and difference of two independent \n",
      "   random variables is equal to the sum of their variances.\n",
      "\n"
     ]
    }
   ],
   "source": [
    "print('A) E(X + Y + Y + Y) = E(X) + 3*E(Y) =', 48 + 3*2)\n",
    "var_A = 1 + 3*0.0625\n",
    "print('   V(X + Y + Y + Y) = V(X) + 3*V(Y) =', var_A)\n",
    "print('   Std. dev. =', np.sqrt(var_A).round(4))  \n",
    "# Alternatively, you can use SD values to compute the standard deviation of the amount of ice cream served: \n",
    "# std_A = np.sqrt(1**2 + 3*(0.25)**2).round(4)\n",
    "print()\n",
    "\n",
    "print('B) E(X-Y) = E(X) - E(Y) =', 48-2)\n",
    "var_B = 1 + 0.0625\n",
    "print('   V(X-Y) = V(X) + V(Y) =', var_B)\n",
    "print('   Std. dev. =', np.sqrt(var_B).round(4))\n",
    "\n",
    "print('''\n",
    "C) Initially we do not know exactly how much ice cream is in the box. \n",
    "   Then we scoop out an unknown amount. \n",
    "   We should now be even more unsure about the amount of ice cream \n",
    "   that is left in the box.\n",
    "   \n",
    "   Also, during the lecture, we talked about why mathematically the \n",
    "   variance of both the sum and difference of two independent \n",
    "   random variables is equal to the sum of their variances.\n",
    "''')"
   ]
  }
 ],
 "metadata": {
  "hide_input": false,
  "kernelspec": {
   "display_name": "Python 3 (ipykernel)",
   "language": "python",
   "name": "python3"
  },
  "language_info": {
   "codemirror_mode": {
    "name": "ipython",
    "version": 3
   },
   "file_extension": ".py",
   "mimetype": "text/x-python",
   "name": "python",
   "nbconvert_exporter": "python",
   "pygments_lexer": "ipython3",
   "version": "3.9.7"
  }
 },
 "nbformat": 4,
 "nbformat_minor": 4
}
