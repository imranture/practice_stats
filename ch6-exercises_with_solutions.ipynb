{
 "cells": [
  {
   "cell_type": "markdown",
   "metadata": {},
   "source": [
    "# Chapter 6: Practice Exercises with Solutions"
   ]
  },
  {
   "cell_type": "code",
   "execution_count": 1,
   "metadata": {},
   "outputs": [],
   "source": [
    "import numpy as np\n",
    "from scipy.stats import norm"
   ]
  },
  {
   "cell_type": "markdown",
   "metadata": {},
   "source": [
    "**Exercise 1:** A local news outlet reported that 46% of 600 randomly sampled Kansas residents planned to set off fireworks on New Year's Eve. Determine the margin of error for the 46% point estimate using a 95% confidence level."
   ]
  },
  {
   "cell_type": "code",
   "execution_count": 2,
   "metadata": {},
   "outputs": [
    {
     "name": "stdout",
     "output_type": "stream",
     "text": [
      "\n",
      "    With a random sample, independence is satisfied. \n",
      "    The success-failure condition is also satisfied: 276.0 and 324.0 are both greater than 10.\n",
      "    Hence, the margin of error can be calculated as follows:\n",
      "\n",
      "    ME = 1.96 x ((0.46 x 0.54)/600)^(1/2) = 0.04\n"
     ]
    }
   ],
   "source": [
    "print(f'''\n",
    "    With a random sample, independence is satisfied. \n",
    "    The success-failure condition is also satisfied: {0.46*600} and {(1-0.46)*600} are both greater than 10.\n",
    "    Hence, the margin of error can be calculated as follows:''')\n",
    "print('''\n",
    "    ME = 1.96 x ((0.46 x 0.54)/600)^(1/2) =''', round((1.96*np.sqrt((0.46*0.54)/600)), 2))"
   ]
  },
  {
   "cell_type": "markdown",
   "metadata": {},
   "source": [
    "**Exercise 2:** A market researcher wants to evaluate car insurance savings at a competing company. Based on past studies he is assuming that the standard deviation of savings is AUD 100. He wants to collect data such that he can get a margin of error of no more than AUD 10 at a 95% confidence level. How large of a sample should he collect?"
   ]
  },
  {
   "cell_type": "code",
   "execution_count": 3,
   "metadata": {},
   "outputs": [
    {
     "name": "stdout",
     "output_type": "stream",
     "text": [
      "\n",
      "    ME = critical value X standard errror = z x sigma/(square root of n)\n",
      "    \n",
      "    10 >= 1.96 x (100 / n^(1/2)) ---> n >= ((1.96 x 100) / 10)^2 = 384.16\n",
      "    \n",
      "    He should survey at least 385 customers. Note that we need to round up the calculated sample size.\n"
     ]
    }
   ],
   "source": [
    "print(f'''\n",
    "    ME = critical value X standard errror = z x sigma/(square root of n)\n",
    "    \n",
    "    10 >= 1.96 x (100 / n^(1/2)) ---> n >= ((1.96 x 100) / 10)^2 = {round(((1.96*100)/10)**2, 2)}\n",
    "    \n",
    "    He should survey at least 385 customers. Note that we need to round up the calculated sample size.''')"
   ]
  },
  {
   "cell_type": "markdown",
   "metadata": {},
   "source": [
    "**Exercise 3:** Some people claim that they can tell the difference between a diet soda and a regular soda in the first sip. A researcher wanting to test this claim randomly sampled 80 such people. He then filled 80 plain white cups with soda, half diet and half regular through random assignment, and asked each person to take one sip from their cup and identify the soda as diet or regular. 53 participants correctly identified the soda. Construct a hypothesis test using $\\alpha = 0.05$."
   ]
  },
  {
   "cell_type": "code",
   "execution_count": 4,
   "metadata": {},
   "outputs": [
    {
     "name": "stdout",
     "output_type": "stream",
     "text": [
      "Prepare Check Calculate Conclude Framework\n",
      "\n",
      "PREPARE\n",
      "The parameter of interest: The proportion of people who can tell the difference between a diet soda and \n",
      "a regular soda in the first sip.\n",
      "Set up hypotheses: \n",
      "Ho: p = 0.50 (Results are equivalent to randomly guessing)\n",
      "Ha: p != 0.50 (Results are different than just randomly guessing)\n",
      "Significance level (alpha): %5\n",
      "\n",
      "CHECK\n",
      "(1) Independence: The sample is random, therefore whether or not one person in the sample\n",
      "can identify a soda correctly in independent of another.\n",
      "(2) Success-failure: n*p0 = 80*(0.50) = 40.0 and n*(1-p0) = 80*(0.50) = 40.0 are both >= 10, \n",
      "hence the success-failure conditions are satisfied.\n",
      "\n",
      "CALCULATE\n",
      "The Z-score is 2.9069. The Z score's one-tail area: 0.0018, yet this is a two-sided hypothesis testing. \n",
      "Thus, the p-value is twice this one-tail area: 0.0037\n",
      "\n",
      "CONCLUDE\n",
      "Because the p-value of 0.37% is smaller than alpha = 5%, we do REJECT the null hypothesis and \n",
      "conclude people are better than random guessing and the proportion of correctly identifying a soda for \n",
      "these people is significantly better than just by random guessing.\n",
      "\n"
     ]
    }
   ],
   "source": [
    "print('''Prepare Check Calculate Conclude Framework\n",
    "''')\n",
    "\n",
    "print('''PREPARE\n",
    "The parameter of interest: The proportion of people who can tell the difference between a diet soda and \n",
    "a regular soda in the first sip.\n",
    "Set up hypotheses: \n",
    "Ho: p = 0.50 (Results are equivalent to randomly guessing)\n",
    "Ha: p != 0.50 (Results are different than just randomly guessing)\n",
    "Significance level (alpha): %5\n",
    "''')\n",
    "p0 = 0.50\n",
    "p_hat = 53/80\n",
    "n = 80\n",
    "\n",
    "print(f'''CHECK\n",
    "(1) Independence: The sample is random, therefore whether or not one person in the sample\n",
    "can identify a soda correctly in independent of another.\n",
    "(2) Success-failure: n*p0 = 80*(0.50) = {round(n*p0, 1)} and n*(1-p0) = 80*(0.50) = {round(n*(1-p0), 1)} are both >= 10, \n",
    "hence the success-failure conditions are satisfied.\n",
    "''')\n",
    "\n",
    "se = np.sqrt(p0*(1 - p0)/n)\n",
    "z_score = round((p_hat - p0)/se, 4)\n",
    "print(f'''CALCULATE\n",
    "The Z-score is {z_score}. The Z score's one-tail area: {round(1 - norm.cdf(np.abs(z_score)), 4)}, yet this is a two-sided hypothesis testing. \n",
    "Thus, the p-value is twice this one-tail area: {round(2*(1 - norm.cdf(np.abs(z_score))), 4)}\n",
    "''')\n",
    "\n",
    "print('''CONCLUDE\n",
    "Because the p-value of 0.37% is smaller than alpha = 5%, we do REJECT the null hypothesis and \n",
    "conclude people are better than random guessing and the proportion of correctly identifying a soda for \n",
    "these people is significantly better than just by random guessing.\n",
    "''')"
   ]
  },
  {
   "cell_type": "markdown",
   "metadata": {},
   "source": [
    "**Exercise 4:** According to a report on sleep deprivation by the Centers for Disease Control and Prevention, the proportion of California residents who reported insufficient rest or sleep during each of the preceding 30 days is 8.0%, while this proportion is 8.8% for Oregon residents. These data are based on simple random samples of 11,545 California and 4,691 Oregon residents. Calculate a 95% confidence interval for the difference between the proportions of California and Oregon residents who are sleep deprived and interpret it in context of the data."
   ]
  },
  {
   "cell_type": "code",
   "execution_count": 5,
   "metadata": {},
   "outputs": [
    {
     "name": "stdout",
     "output_type": "stream",
     "text": [
      "\n",
      "(1) Independence: Both samples are random, and 11,545 < 10% of all California residents and 4,691 <\n",
      "10% of all Oregon residents, therefore how much one California resident sleeps is independent of how much\n",
      "another California resident sleeps and how much one Oregon resident sleeps is independent of how much\n",
      "another Oregon resident sleeps. In addition, the two samples are independent of each other.\n",
      "\n",
      "(2) Success-failure: \n",
      "    nCAL*p_hat_CAL = 923.6 and nCAL*(1-p_hat_CAL) = 10621.4 \n",
      "    are both >= 10\n",
      "    nORE*p_hat_ORE = 412.8 and nORE*(1-p_hat_ORE) = 4278.2 \n",
      "    are both >= 10\n",
      "hence the success-failure conditions are satisfied.\n",
      "\n",
      "Since the observations are independent and the success-failure condition is met, \n",
      "p_hat_CAL - p_hat_ORE is expected to be approximately normal.\n",
      "\n",
      "A 95% confidence interval for the difference between \n",
      "the population proportions can be calculated as follows:\n",
      "    \n",
      "The confidence interval is therefore, point estimate +/- z x SE = \n",
      "(0.08-0.088) +/- 1.96 x 0.0048 =\n",
      "   -0.0175 and 0.0015\n",
      "\n",
      "We are 95% confident that the difference between the proportions of California and Oregon residents \n",
      "who are sleep deprived is between -1.7% and 0.15%. In other words, we are 95% confident that 1.7% less to \n",
      "0.15% more California than Oregon residents are sleep deprived.\n"
     ]
    }
   ],
   "source": [
    "p_hat_CAL = 0.08\n",
    "p_hat_ORE = 0.088\n",
    "nCAL = 11545 \n",
    "nORE = 4691\n",
    "\n",
    "print(f'''\n",
    "(1) Independence: Both samples are random, and 11,545 < 10% of all California residents and 4,691 <\n",
    "10% of all Oregon residents, therefore how much one California resident sleeps is independent of how much\n",
    "another California resident sleeps and how much one Oregon resident sleeps is independent of how much\n",
    "another Oregon resident sleeps. In addition, the two samples are independent of each other.\n",
    "\n",
    "(2) Success-failure: \n",
    "    nCAL*p_hat_CAL = {round(nCAL*p_hat_CAL, 1)} and nCAL*(1-p_hat_CAL) = {round(nCAL*(1-p_hat_CAL), 1)} \n",
    "    are both >= 10\n",
    "    nORE*p_hat_ORE = {round(nORE*p_hat_ORE, 1)} and nORE*(1-p_hat_ORE) = {round(nORE*(1-p_hat_ORE), 1)} \n",
    "    are both >= 10\n",
    "hence the success-failure conditions are satisfied.\n",
    "''')\n",
    "\n",
    "print('''Since the observations are independent and the success-failure condition is met, \n",
    "p_hat_CAL - p_hat_ORE is expected to be approximately normal.\n",
    "\n",
    "A 95% confidence interval for the difference between \n",
    "the population proportions can be calculated as follows:''')\n",
    "\n",
    "critical_value = round(norm.ppf(0.975), 3)\n",
    "se = np.sqrt((p_hat_CAL*(1-p_hat_CAL)/nCAL) + (p_hat_ORE*(1-p_hat_ORE)/nORE))\n",
    "print('''    \n",
    "The confidence interval is therefore, point estimate +/- z x SE = \n",
    "(0.08-0.088) +/- 1.96 x 0.0048 =\n",
    "  ''', round((0.08-0.088)-critical_value*se, 4), 'and', round((0.08-0.088)+critical_value*se, 4))\n",
    "\n",
    "print('''\n",
    "We are 95% confident that the difference between the proportions of California and Oregon residents \n",
    "who are sleep deprived is between -1.7% and 0.15%. In other words, we are 95% confident that 1.7% less to \n",
    "0.15% more California than Oregon residents are sleep deprived.''')"
   ]
  },
  {
   "cell_type": "markdown",
   "metadata": {},
   "source": [
    "**Exercise 5:** (fictional) A survey asked 827 randomly sampled Melbourne and Sydney residents \"What is your favorite sport? Football, cricket or basketball?\" Below is the distribution of responses, separated based on whether the respondent is a Melbourne or Sydney resident.\n",
    "\n",
    "|-| Melbourne | Sydney   | \n",
    "|---                 |---   |---      |\n",
    "| Football | 154       | 132     |\n",
    "| Cricket | 180      | 126     |\n",
    "| Basketball | 104 | 131     | \n",
    "| TOTAL | 438 | 389     | \n",
    "\n",
    "\n",
    "A) What percent of Melbourne residents and what percent of Sydney residents in this sample report that their favorite sport is basketball?\n",
    "\n",
    "B) Conduct a hypothesis test to determine if the data provide strong evidence that the proportion of Melbourne residents who\n",
    "reported their favorite sport as basketball is different than that of Sydney residents."
   ]
  },
  {
   "cell_type": "code",
   "execution_count": 6,
   "metadata": {},
   "outputs": [
    {
     "name": "stdout",
     "output_type": "stream",
     "text": [
      "\n",
      "A)  The percentages can be calculated as follows:\n",
      "\n",
      "Proportion of Melbourne residents who love basketball = 104/438 = 0.24 (24%)\n",
      "Proportion of Sydney residents who love basketball = 131/389 = 0.34 (34%)\n",
      "\n",
      "B) Hypothesis Test:\n",
      "\n",
      "PREPARE\n",
      "Let pMEL represent the proportion of all Melbourne residents who love 'basketball', and\n",
      "pSYD represent the proportion of all Sydney residents who love 'basketball'.\n",
      "Set up hypotheses: \n",
      "Ho: pMEL = pSYD\n",
      "Ha: pMEL != pSYD\n",
      "Significance level (alpha): %5\n",
      "\n",
      "CHECK\n",
      "(1) Independence: Both samples are random, so observations within each group are independent. \n",
      "Additionally, each sample is independent of the other.\n",
      "(2) Success-failure: \n",
      "    nMEL*p_pool = 438*(0.284) = 124.5 and nMEL*(1-p_pool) = 438*(0.716) = 313.5 \n",
      "    are both >= 10\n",
      "    nSYD*p_pool = 438*(0.284) = 110.5 and nSYD*(1-p_pool) = 438*(0.716) = 278.5 \n",
      "    are both >= 10\n",
      "hence the success-failure conditions are satisfied.\n",
      "\n",
      "CALCULATE\n",
      "The Z-score is -3.18. The Z score's one-tail area: 0.00074, yet this is a two-sided hypothesis testing. \n",
      "Thus, the p-value is twice this one-tail area: 0.0015\n",
      "\n",
      "CONCLUDE\n",
      "Because the p-value of 0.15% is smaller than alpha = 5%, we do REJECT the null hypothesis and \n",
      "we conclude that the data provide strong evidence that the proportion of Melbourne residents who reported \n",
      "their favorite sport as basketball is different than that of Sydney residents.\n",
      "\n"
     ]
    }
   ],
   "source": [
    "p_hat_MEL = round(104/438, 2)\n",
    "p_hat_SYD = round(131/389, 2)\n",
    "\n",
    "print('''\n",
    "A)  The percentages can be calculated as follows:''')\n",
    "print(f'''\n",
    "Proportion of Melbourne residents who love basketball = 104/438 = {p_hat_MEL} (24%)''')\n",
    "print(f'''Proportion of Sydney residents who love basketball = 131/389 = {p_hat_SYD} (34%)\n",
    "''')\n",
    "\n",
    "print('''B) Hypothesis Test:\n",
    "''')\n",
    "\n",
    "print('''PREPARE\n",
    "Let pMEL represent the proportion of all Melbourne residents who love 'basketball', and\n",
    "pSYD represent the proportion of all Sydney residents who love 'basketball'.\n",
    "Set up hypotheses: \n",
    "Ho: pMEL = pSYD\n",
    "Ha: pMEL != pSYD\n",
    "Significance level (alpha): %5\n",
    "''')\n",
    "successMEL = 104\n",
    "successSYD = 131\n",
    "nMEL = 438 \n",
    "nSYD = 389\n",
    "p_pool = (successMEL+successSYD)/(nMEL+nSYD) # Pooled estimate of a proportion\n",
    "\n",
    "print(f'''CHECK\n",
    "(1) Independence: Both samples are random, so observations within each group are independent. \n",
    "Additionally, each sample is independent of the other.\n",
    "(2) Success-failure: \n",
    "    nMEL*p_pool = 438*(0.284) = {round(nMEL*p_pool, 1)} and nMEL*(1-p_pool) = 438*(0.716) = {round(nMEL*(1-p_pool), 1)} \n",
    "    are both >= 10\n",
    "    nSYD*p_pool = 438*(0.284) = {round(nSYD*p_pool, 1)} and nSYD*(1-p_pool) = 438*(0.716) = {round(nSYD*(1-p_pool), 1)} \n",
    "    are both >= 10\n",
    "hence the success-failure conditions are satisfied.\n",
    "''')\n",
    "\n",
    "print('CALCULATE')\n",
    "se = np.sqrt((p_pool*(1 - p_pool)/nMEL) + (p_pool*(1 - p_pool)/nSYD))\n",
    "z_score = round((p_hat_MEL - p_hat_SYD)/se, 2)\n",
    "print(f'''The Z-score is {z_score}. The Z score's one-tail area: {round(1 - norm.cdf(np.abs(z_score)), 5)}, yet this is a two-sided hypothesis testing. \n",
    "Thus, the p-value is twice this one-tail area: {round(2*(1 - norm.cdf(np.abs(z_score))), 4)}\n",
    "''')\n",
    "\n",
    "print('''CONCLUDE\n",
    "Because the p-value of 0.15% is smaller than alpha = 5%, we do REJECT the null hypothesis and \n",
    "we conclude that the data provide strong evidence that the proportion of Melbourne residents who reported \n",
    "their favorite sport as basketball is different than that of Sydney residents.\n",
    "''')"
   ]
  }
 ],
 "metadata": {
  "hide_input": false,
  "kernelspec": {
   "display_name": "Python 3 (ipykernel)",
   "language": "python",
   "name": "python3"
  },
  "language_info": {
   "codemirror_mode": {
    "name": "ipython",
    "version": 3
   },
   "file_extension": ".py",
   "mimetype": "text/x-python",
   "name": "python",
   "nbconvert_exporter": "python",
   "pygments_lexer": "ipython3",
   "version": "3.9.7"
  }
 },
 "nbformat": 4,
 "nbformat_minor": 4
}
