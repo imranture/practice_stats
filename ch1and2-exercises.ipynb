{
 "cells": [
  {
   "cell_type": "markdown",
   "metadata": {},
   "source": [
    "# Chapter 1 & 2: Practice Exercises\n",
    "---"
   ]
  },
  {
   "cell_type": "markdown",
   "metadata": {},
   "source": [
    "In this exercise, you will gain insight into public health by generating simple graphical and numerical summaries of a dataset collected by the U.S. Centers for Disease Control and Prevention (CDC).\n",
    "\n",
    "The Behavioral Risk Factor Surveillance System (BRFSS) is an annual telephone survey of 350,000 people in the United States. As its name implies, the BRFSS is designed to identify risk factors in the adult population and report emerging health trends. For example, respondents are asked about their diet and weekly physical activity, their HIV/AIDS status, possible tobacco use, and even their level of healthcare coverage.\n",
    "\n",
    "Data source: https://www.cdc.gov/brfss/\n",
    "\n",
    "In this exercise, we will focus on a random sample of 20,000 people from the BRFSS survey conducted in 2000. While there are over 200 variables in this data set, we will work with a small subset.\n",
    "\n",
    "The data set is available as a CSV file named `cdc.csv` (Download from [here](https://raw.githubusercontent.com/imranture/practice_stats/main/datasets/cdc.csv))."
   ]
  },
  {
   "cell_type": "markdown",
   "metadata": {},
   "source": [
    "---\n",
    "**Exercise 1:** Place the CSV file under the same directory where your Jupyter Notebook file is. Import Pandas as \"pd\" and NumPy as \"np\". Read the data into a Pandas data frame called `df`."
   ]
  },
  {
   "cell_type": "markdown",
   "metadata": {},
   "source": [
    "---\n",
    "**Exercise 2:** How many observations are there in this dataset?\n",
    "\n",
    "**Hint:** Use `shape()`."
   ]
  },
  {
   "cell_type": "markdown",
   "metadata": {},
   "source": [
    "---\n",
    "**Exercise 3:** Display the first 10 rows."
   ]
  },
  {
   "cell_type": "markdown",
   "metadata": {},
   "source": [
    "---\n",
    "**Exercise 4:** How many variables are there in this dataset? For each variable, identify its data type (e.g., categorical, numerical).\n",
    "\n",
    "**Hint:** Try using Pandas' `dtypes()` method on your data frame. In the output of this method, `object` data type (\"dtype\") stands for a string type, which usually indicates a categorical variable. However, some numerical variables can actually be categorical in nature (think about `hlthplan`, for instance)."
   ]
  },
  {
   "cell_type": "markdown",
   "metadata": {},
   "source": [
    "---\n",
    "**Exercise 5:**  State how many levels each categorical variable has. Print all the levels for each categorical variable.\n",
    "\n",
    "**Hint:** Use Pandas' `unique()` and `nunique()`."
   ]
  },
  {
   "cell_type": "markdown",
   "metadata": {},
   "source": [
    "---\n",
    "**Exercise 6:** Find the mean, sample standard deviation, and median of `weight`."
   ]
  },
  {
   "cell_type": "markdown",
   "metadata": {},
   "source": [
    "---\n",
    "**Exercise 7:** Find the mean, sample standard deviation, and median of `weight` for respondents who exercised in the past month. Is there any significant difference in the results when compared to the results of Exercise 6?\n",
    "\n",
    "**Hint:** `exerany` is the variable that is 1 if the respondent exercised in the past month and 0 otherwise."
   ]
  },
  {
   "cell_type": "markdown",
   "metadata": {},
   "source": [
    "---\n",
    "**Exercise 8:** Compute the 5-number summary for `wtdesire`, respondent's desired weight in pound, in ascending order (that is, min, Q1, Q2 (median), Q3, and max). Also compute the interquartile range (IQR) for this variable (which is Q3-Q1). In addition, compute max upper whisker reach and max lower whisker reach. Based on these values, how many outliers are there for `wtdesire`? Finally, using Matplotlib, create a boxplot for this variable.\n",
    "\n",
    "**Hint:** For quantiles, you can use NumPy' `quantile()`."
   ]
  },
  {
   "cell_type": "markdown",
   "metadata": {},
   "source": [
    "---\n",
    "**Exercise 9:** Let's consider a new variable: the difference between desired weight (`wtdesire`) and current weight (`weight`). Create this new variable by subtracting the two columns in the `df` data frame and assigning them to a new variable called `wdiff`. Display the first 5 rows of `df`. How many columns are there?"
   ]
  },
  {
   "cell_type": "markdown",
   "metadata": {},
   "source": [
    "---\n",
    "**Exercise 10:** What percent of respondents' `wdiff` is zero? Comment on the result."
   ]
  },
  {
   "cell_type": "markdown",
   "metadata": {},
   "source": [
    "---\n",
    "**Exercise 11:** What percent of respondents think they are overweight, that is, their `wdiff` value is less than 0? What percent of respondents think they are underweight?"
   ]
  },
  {
   "cell_type": "markdown",
   "metadata": {},
   "source": [
    "---\n",
    "**Exercise 12:** Create a side-by-side boxplot to determine if men tend to view their weight differently than women.\n",
    "\n",
    "**Hint**: For this, you will need to use the *seaborn* module."
   ]
  },
  {
   "cell_type": "markdown",
   "metadata": {},
   "source": [
    "---\n",
    "**Exercise 13:**  Generate a histogram of `age` with the bin size of 7. Comment on the skewness and modality of this histogram."
   ]
  },
  {
   "cell_type": "markdown",
   "metadata": {},
   "source": [
    "---\n",
    "**Exercise 14:** Make a scatterplot of weight versus desired weight. Set the fill color as blue and alpha level as 0.3. Describe the relationship between these two variables.\n",
    "\n",
    "**Bonus**: Also fit a red line with a slope of 1 and an intercept value of 0."
   ]
  },
  {
   "cell_type": "markdown",
   "metadata": {},
   "source": [
    "---\n",
    "*Solutions available [here](https://nbviewer.org/github/imranture/practice_stats/blob/main/ch1and2-exercises_with_solutions.ipynb).*"
   ]
  }
 ],
 "metadata": {
  "hide_input": false,
  "kernelspec": {
   "display_name": "Python 3 (ipykernel)",
   "language": "python",
   "name": "python3"
  },
  "language_info": {
   "codemirror_mode": {
    "name": "ipython",
    "version": 3
   },
   "file_extension": ".py",
   "mimetype": "text/x-python",
   "name": "python",
   "nbconvert_exporter": "python",
   "pygments_lexer": "ipython3",
   "version": "3.10.0"
  }
 },
 "nbformat": 4,
 "nbformat_minor": 4
}
