{
 "cells": [
  {
   "cell_type": "markdown",
   "metadata": {},
   "source": [
    "# Chapter 9: Practice Exercises with Solutions"
   ]
  },
  {
   "cell_type": "markdown",
   "metadata": {},
   "source": [
    "**Exercise 1:** The Child Health and Development Studies investigate a range of topics. One study considered all pregnancies between 1960 and 1967 among women in the Kaiser Foundation Health Plan in the San Francisco East Bay area. Variables in this study are as follows:\n",
    "- **response variable:** birth weight in ounces (`bwt`)\n",
    "- length of pregnancy in days (`gestation`)\n",
    "- mother's age in years (`age`)\n",
    "- mother's height in inches (`height`)\n",
    "- mother's pregnancy weight in pounds (`weight`)\n",
    "- mother's `smoke` status: 1 if the mother is a smoker, 0 otherwise\n",
    "- child's `parity` status: 1 if first child, 0 otherwise\n",
    "\n",
    "Below are three observations from this data set.\n",
    "\n",
    "| id | bwt | gestation  | parity |  age | height | weight | smoke |\n",
    "|------|------|------|------|------|------|------|------|\n",
    "|  1  | 120  | 284  | 0 | 27 | 62 | 100 | 0 |\n",
    "|   2 | 113    | 282| 0|  33| 64 | 135 | 0 |\n",
    "|   . | .    | .| . |  . | . | . | . |\n",
    "|   . | .    | .| . |  . | . | . | . |\n",
    "|   . | .    | .| . |  . | . | . | . |\n",
    "|   1236  | 117   | 297| 0| 38 | 65 | 129 | 0 |\n",
    " \n",
    "\n",
    "The summary table below shows the results of a regression model for predicting the birth weight of\n",
    "babies (`bwt`) based on all of the variables included in the dataset.\n",
    "\n",
    "| - | Estimate | Std. Error   | t value | Pr(>abs(t)) |\n",
    "|------|------|------|------|------|\n",
    "|  (Intercept)  | -80.41  | 14.35   | -5.60 | 0.0000 |\n",
    "|   gestation  | 0.44    | 0.03| 15.26 |  0.0000 | \n",
    "|   parity | -3.33    | 1.13| -2.95 |  0.0033 | \n",
    "|   age  | -0.01    | 0.09| -0.10|  0.9170 | \n",
    "|   height  | 1.15    | 0.21| 5.63 |  0.0000 | \n",
    "|   weight  | 0.05    | 0.03| 1.99 |  0.0471 | \n",
    "|   smoke  | -8.40    | 0.95| -8.81 |  0.0000 | \n",
    "\n",
    "(A) Write the equation of the regression model that includes all of the variables.\n",
    "\n",
    "(B) Interpret the slopes of `gestation` and `age` in this context.\n",
    "\n",
    "(C) Calculate the residual for the first observation in the data set.\n",
    "\n",
    "(D)  Is there a statistically significant relationship between `bwt` and `smoke`?\n",
    "\n",
    "(E) The variance of the residuals is 249.28 and the variance of the birth weights of all babies in the dataset is 332.57. Calculate the R-squared and the adjusted R-squared values. Note that there are 1,236 observations in the dataset."
   ]
  },
  {
   "cell_type": "markdown",
   "metadata": {},
   "source": [
    "## Baseball Player Statistics (MLB11)\n",
    "\n",
    "The movie [Moneyball](https://www.imdb.com/title/tt1210166/) focuses on the \"quest for the secret of success in baseball\". It follows a low-budget team, the Oakland Athletics, who believed that under-used statistics, such as a player's ability to get on base, better predict the ability to score runs than typical statistics like home runs, RBIs (runs batted in), and batting average. Obtaining players who excelled in these under-used statistics turned out to be much more affordable for the team.\n",
    "\n",
    "Data Source: https://www.mlb.com/\n",
    "\n",
    "The data set is available as a CSV file named `mlb11.csv` (Download from [here](https://raw.githubusercontent.com/imranture/practice_stats/main/datasets/mlb11.csv))."
   ]
  },
  {
   "cell_type": "markdown",
   "metadata": {},
   "source": [
    "**Exercise 2:** Plot pairwise relationships among `runs`, `hits`, `bat_avg` and `wins`.\n",
    "\n",
    "**Hint**: Use seaborn's [`pairplot()`](https://seaborn.pydata.org/generated/seaborn.pairplot.html) function."
   ]
  },
  {
   "cell_type": "markdown",
   "metadata": {},
   "source": [
    "**Exercise 3:** Construct a multiple regression model for `runs` as the response (dependent) variable and `bat_avg`, `wins`, `strikeouts` as the independent variables. Compute R-squared and Adjusted R-squared values.\n",
    "\n",
    "**Hint**: Use [`statsmodels.api`](https://www.statsmodels.org/stable/regression.html) to fit the model."
   ]
  },
  {
   "cell_type": "markdown",
   "metadata": {},
   "source": [
    "**Exercise 4:** Construct a multiple regression model for `runs` as dependent variable again, but this time include all the independent variables (except `team`) in the model. Compute R-squared and Adjusted R-squared values again."
   ]
  }
 ],
 "metadata": {
  "hide_input": false,
  "kernelspec": {
   "display_name": "Python 3 (ipykernel)",
   "language": "python",
   "name": "python3"
  },
  "language_info": {
   "codemirror_mode": {
    "name": "ipython",
    "version": 3
   },
   "file_extension": ".py",
   "mimetype": "text/x-python",
   "name": "python",
   "nbconvert_exporter": "python",
   "pygments_lexer": "ipython3",
   "version": "3.9.7"
  }
 },
 "nbformat": 4,
 "nbformat_minor": 4
}
