{
 "cells": [
  {
   "cell_type": "markdown",
   "metadata": {},
   "source": [
    "# Chapter 3: Practice Exercises\n",
    "---"
   ]
  },
  {
   "cell_type": "markdown",
   "metadata": {},
   "source": [
    "**Exercise 1:** If you flip a fair coin 5 times, what is the probability of\n",
    "\n",
    "A) Getting all heads?\n",
    "\n",
    "B) Getting at least one head?"
   ]
  },
  {
   "cell_type": "markdown",
   "metadata": {},
   "source": [
    "---"
   ]
  },
  {
   "cell_type": "markdown",
   "metadata": {},
   "source": [
    "**Exercise 2:** If you roll a pair of fair dice, what is the probability of\n",
    "\n",
    "A) Getting a sum of 1?\n",
    "\n",
    "B) Getting a sum of 5?\n",
    "\n",
    "C) Getting a sum of 12?"
   ]
  },
  {
   "cell_type": "markdown",
   "metadata": {},
   "source": [
    "---"
   ]
  },
  {
   "cell_type": "markdown",
   "metadata": {},
   "source": [
    "**Exercise 3:** In a multiple choice quiz there are 5 questions and 3 choices for each question (a,b,c). Jessy did not study for the test at all and she decided to randomly guess the answers. What is the probability that\n",
    "\n",
    "A) the first question she gets right is the 3rd question?\n",
    "\n",
    "B) she get all the questions right?\n",
    "\n",
    "C) she gets at least one question right?"
   ]
  },
  {
   "cell_type": "markdown",
   "metadata": {},
   "source": [
    "---"
   ]
  },
  {
   "cell_type": "markdown",
   "metadata": {},
   "source": [
    "**Exercise 4:** In a survey, grade 12 students were asked on their likeability towards quantum computing (QC) & blockchain technology (BT). 70% of the respondents said they like QC, 80% said they like BT while 68% said they like both. Given that a randomly sampled student likes QC, what's the probability that he also likes BT?"
   ]
  },
  {
   "cell_type": "markdown",
   "metadata": {},
   "source": [
    "---"
   ]
  },
  {
   "cell_type": "markdown",
   "metadata": {},
   "source": [
    "**Exercise 5:** Researchers collected data on colors of 210 cars in Melbourne. The table below summarizes the results. \n",
    "\n",
    "|Cars     | Blue | Red   | Black | Total  |\n",
    "|---      |---   |---    |---    | ---    |\n",
    "|Brand A  | 81   | 23    | 13    | 117    |\n",
    "|Brand B  | 19   | 23    | 14    | 56     |\n",
    "|Brand C  | 11   | 10    | 16    | 37     |\n",
    "|Total    | 111  | 56    | 43    | 210    |\n",
    "\n",
    "A) What is the probability that a randomly chosen car is a Brand A and has the color of Blue?\n",
    "\n",
    "B) What is the probability that a randomly chosen car is a Brand A or has the color of Blue?\n",
    "\n",
    "C) What is the probability that a randomly chosen car is a Blue Brand A car, Red Brand B car or Black Brand C car?\n",
    "\n",
    "D) What is the probability that a randomly chosen Brand A car has the color of Blue?\n",
    "\n",
    "E) What is the probability that a randomly chosen Blue car is a Brand A car?\n",
    "\n",
    "F) What is the probability that a randomly chosen Blue car is not a Brand A?"
   ]
  },
  {
   "cell_type": "markdown",
   "metadata": {},
   "source": [
    "**Exercise 6:** A portfolio's value increases by 18% during a financial boom and by 9% during normal times. It decreases by 12% during a recession. What is the expected return on this portfolio if each scenario is equally likely?"
   ]
  },
  {
   "cell_type": "markdown",
   "metadata": {},
   "source": [
    "---"
   ]
  },
  {
   "cell_type": "markdown",
   "metadata": {},
   "source": [
    "**Exercise 7:** Ice cream usually comes in 48  ounces, and ice cream scoops hold about 2 ounces. However, there is some variability in the amount of ice cream in a box as well as the amount of ice cream scooped out. The amount of ice cream in the box is denoted by the random variable X and the amount scooped out as Y. Suppose these random variables have the following means, standard deviations, and variances:\n",
    "\n",
    "|R.V.  | Mean | SD   | Variance |\n",
    "|------|------|------|------    |\n",
    "|   X  | 48   | 1    | 1        |\n",
    "|   Y  | 2    | 0.25 | 0.0625   |\n",
    "\n",
    "A) An entire box of ice cream, plus 3 scoops from a second box is served at a party. How much ice cream do you expect to have been served at this party? What is the standard deviation of the amount of ice cream served?\n",
    "\n",
    "B) How much ice cream would you expect to be left in the box after scooping out one scoop of ice cream? That is, find the expected value of X - Y. What is the standard deviation of the amount left in the box?\n",
    "\n",
    "C) Using the context of this exercise, explain why we add variances when we subtract one random variable from another."
   ]
  },
  {
   "cell_type": "markdown",
   "metadata": {},
   "source": [
    "---"
   ]
  },
  {
   "cell_type": "markdown",
   "metadata": {},
   "source": [
    "*Solutions available [here](https://nbviewer.org/github/imranture/practice_stats/blob/main/ch3-exercises_with_solutions.ipynb).*"
   ]
  }
 ],
 "metadata": {
  "hide_input": false,
  "kernelspec": {
   "display_name": "Python 3 (ipykernel)",
   "language": "python",
   "name": "python3"
  },
  "language_info": {
   "codemirror_mode": {
    "name": "ipython",
    "version": 3
   },
   "file_extension": ".py",
   "mimetype": "text/x-python",
   "name": "python",
   "nbconvert_exporter": "python",
   "pygments_lexer": "ipython3",
   "version": "3.10.0"
  }
 },
 "nbformat": 4,
 "nbformat_minor": 4
}
